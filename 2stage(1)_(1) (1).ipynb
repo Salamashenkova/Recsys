{
  "cells": [
    {
      "cell_type": "code",
      "execution_count": null,
      "metadata": {
        "execution": {
          "iopub.execute_input": "2025-10-24T21:12:29.983040Z",
          "iopub.status.busy": "2025-10-24T21:12:29.981845Z",
          "iopub.status.idle": "2025-10-24T21:12:31.877943Z",
          "shell.execute_reply": "2025-10-24T21:12:31.876830Z",
          "shell.execute_reply.started": "2025-10-24T21:12:29.982997Z"
        },
        "id": "QLACrBVDrO6l",
        "tags": []
      },
      "outputs": [],
      "source": [
        "import pandas as pd\n",
        "import numpy as np\n",
        "from matplotlib import pyplot as plt\n",
        "import seaborn as sns\n",
        "import os\n",
        "import random\n",
        "from scipy.sparse import csr_matrix\n",
        "\n",
        "from tqdm import tqdm\n",
        "from collections import defaultdict\n",
        "\n",
        "from joblib import Parallel, delayed\n",
        "\n",
        "\n",
        "from implicit.als import AlternatingLeastSquares\n",
        "\n",
        "from catboost import *\n",
        "from catboost import CatBoostClassifier\n",
        "\n",
        "from sklearn.metrics.pairwise import cosine_similarity, paired_distances\n",
        "from sklearn.model_selection import train_test_split\n",
        "from sklearn.cluster import KMeans, AgglomerativeClustering, DBSCAN\n",
        "from sklearn.cluster import KMeans\n",
        "from sklearn.model_selection import ParameterGrid\n",
        "from sklearn.metrics.pairwise import cosine_similarity\n",
        "from sklearn.neighbors import VALID_METRICS, NearestNeighbors\n",
        "from sklearn.metrics import roc_auc_score, classification_report, silhouette_score\n",
        "\n",
        "import optuna\n",
        "\n",
        "from tqdm.notebook import tqdm as tqdm_notebook\n",
        "\n",
        "from sklearn.metrics.pairwise import cosine_similarity\n",
        "from tqdm import tqdm\n",
        "\n",
        "from sklearn.preprocessing import MinMaxScaler\n",
        "from scipy.stats import hmean  # Для гармонического среднего\n",
        "\n",
        "import warnings\n",
        "warnings.filterwarnings(\"ignore\")\n",
        "\n",
        "pd.set_option('display.max_columns', None)\n",
        "\n",
        "random.seed(42)\n",
        "np.random.seed(42)"
      ]
    },
    {
      "cell_type": "code",
      "execution_count": null,
      "metadata": {
        "colab": {
          "base_uri": "https://localhost:8080/",
          "height": 533
        },
        "execution": {
          "iopub.execute_input": "2025-10-24T21:12:31.882123Z",
          "iopub.status.busy": "2025-10-24T21:12:31.880173Z",
          "iopub.status.idle": "2025-10-24T21:12:35.573382Z",
          "shell.execute_reply": "2025-10-24T21:12:35.572171Z",
          "shell.execute_reply.started": "2025-10-24T21:12:31.882052Z"
        },
        "id": "NESjaM0U0ga7",
        "outputId": "3050db1f-bdca-4b14-9331-f55c223def7f"
      },
      "outputs": [
        {
          "name": "stdout",
          "output_type": "stream",
          "text": [
            "Defaulting to user installation because normal site-packages is not writeable\n",
            "Requirement already satisfied: numpy==1.26.4 in /home/jupyter/.local/lib/python3.10/site-packages (1.26.4)\n",
            "\n",
            "\u001b[1m[\u001b[0m\u001b[34;49mnotice\u001b[0m\u001b[1;39;49m]\u001b[0m\u001b[39;49m A new release of pip is available: \u001b[0m\u001b[31;49m23.0.1\u001b[0m\u001b[39;49m -> \u001b[0m\u001b[32;49m25.2\u001b[0m\n",
            "\u001b[1m[\u001b[0m\u001b[34;49mnotice\u001b[0m\u001b[1;39;49m]\u001b[0m\u001b[39;49m To update, run: \u001b[0m\u001b[32;49mpython3 -m pip install --upgrade pip\u001b[0m\n"
          ]
        }
      ],
      "source": [
        "  pip install numpy==1.26.4"
      ]
    },
    {
      "cell_type": "code",
      "execution_count": null,
      "metadata": {
        "colab": {
          "base_uri": "https://localhost:8080/"
        },
        "execution": {
          "iopub.execute_input": "2025-10-24T21:12:35.576122Z",
          "iopub.status.busy": "2025-10-24T21:12:35.575318Z",
          "iopub.status.idle": "2025-10-24T21:12:38.944868Z",
          "shell.execute_reply": "2025-10-24T21:12:38.943654Z",
          "shell.execute_reply.started": "2025-10-24T21:12:35.576033Z"
        },
        "id": "DojfNVJ6rhdh",
        "outputId": "7c3ad143-32a3-4ca3-d920-34f16695a54b"
      },
      "outputs": [
        {
          "name": "stdout",
          "output_type": "stream",
          "text": [
            "Defaulting to user installation because normal site-packages is not writeable\n",
            "Requirement already satisfied: optuna in /home/jupyter/.local/lib/python3.10/site-packages (4.5.0)\n",
            "Requirement already satisfied: alembic>=1.5.0 in /home/jupyter/.local/lib/python3.10/site-packages (from optuna) (1.17.0)\n",
            "Requirement already satisfied: colorlog in /home/jupyter/.local/lib/python3.10/site-packages (from optuna) (6.10.1)\n",
            "Requirement already satisfied: numpy in /home/jupyter/.local/lib/python3.10/site-packages (from optuna) (1.26.4)\n",
            "Requirement already satisfied: packaging>=20.0 in /usr/local/lib/python3.10/dist-packages (from optuna) (23.1)\n",
            "Requirement already satisfied: sqlalchemy>=1.4.2 in /usr/local/lib/python3.10/dist-packages (from optuna) (2.0.19)\n",
            "Requirement already satisfied: tqdm in /usr/local/lib/python3.10/dist-packages (from optuna) (4.65.0)\n",
            "Requirement already satisfied: PyYAML in /usr/local/lib/python3.10/dist-packages (from optuna) (6.0.1)\n",
            "Requirement already satisfied: Mako in /home/jupyter/.local/lib/python3.10/site-packages (from alembic>=1.5.0->optuna) (1.3.10)\n",
            "Requirement already satisfied: typing-extensions>=4.12 in /home/jupyter/.local/lib/python3.10/site-packages (from alembic>=1.5.0->optuna) (4.15.0)\n",
            "Requirement already satisfied: tomli in /usr/local/lib/python3.10/dist-packages (from alembic>=1.5.0->optuna) (2.0.1)\n",
            "Requirement already satisfied: greenlet!=0.4.17 in /usr/local/lib/python3.10/dist-packages (from sqlalchemy>=1.4.2->optuna) (2.0.2)\n",
            "Requirement already satisfied: MarkupSafe>=0.9.2 in /usr/local/lib/python3.10/dist-packages (from Mako->alembic>=1.5.0->optuna) (2.1.3)\n",
            "\n",
            "\u001b[1m[\u001b[0m\u001b[34;49mnotice\u001b[0m\u001b[1;39;49m]\u001b[0m\u001b[39;49m A new release of pip is available: \u001b[0m\u001b[31;49m23.0.1\u001b[0m\u001b[39;49m -> \u001b[0m\u001b[32;49m25.2\u001b[0m\n",
            "\u001b[1m[\u001b[0m\u001b[34;49mnotice\u001b[0m\u001b[1;39;49m]\u001b[0m\u001b[39;49m To update, run: \u001b[0m\u001b[32;49mpython3 -m pip install --upgrade pip\u001b[0m\n"
          ]
        }
      ],
      "source": [
        "pip install optuna"
      ]
    },
    {
      "cell_type": "code",
      "execution_count": null,
      "metadata": {
        "colab": {
          "base_uri": "https://localhost:8080/"
        },
        "execution": {
          "iopub.execute_input": "2025-10-24T21:12:38.949225Z",
          "iopub.status.busy": "2025-10-24T21:12:38.947815Z",
          "iopub.status.idle": "2025-10-24T21:12:42.383519Z",
          "shell.execute_reply": "2025-10-24T21:12:42.382128Z",
          "shell.execute_reply.started": "2025-10-24T21:12:38.949167Z"
        },
        "id": "MS80s_t-rpC3",
        "outputId": "3666f4fd-76f1-4308-9856-a02d6e146822"
      },
      "outputs": [
        {
          "name": "stdout",
          "output_type": "stream",
          "text": [
            "Defaulting to user installation because normal site-packages is not writeable\n",
            "Requirement already satisfied: catboost in /home/jupyter/.local/lib/python3.10/site-packages (1.2.8)\n",
            "Requirement already satisfied: graphviz in /usr/local/lib/python3.10/dist-packages (from catboost) (0.20.1)\n",
            "Requirement already satisfied: matplotlib in /usr/local/lib/python3.10/dist-packages (from catboost) (3.7.1)\n",
            "Requirement already satisfied: numpy<3.0,>=1.16.0 in /home/jupyter/.local/lib/python3.10/site-packages (from catboost) (1.26.4)\n",
            "Requirement already satisfied: pandas>=0.24 in /usr/local/lib/python3.10/dist-packages (from catboost) (1.5.3)\n",
            "Requirement already satisfied: scipy in /usr/local/lib/python3.10/dist-packages (from catboost) (1.10.1)\n",
            "Requirement already satisfied: plotly in /usr/local/lib/python3.10/dist-packages (from catboost) (5.13.1)\n",
            "Requirement already satisfied: six in /usr/lib/python3/dist-packages (from catboost) (1.16.0)\n",
            "Requirement already satisfied: python-dateutil>=2.8.1 in /usr/local/lib/python3.10/dist-packages (from pandas>=0.24->catboost) (2.8.2)\n",
            "Requirement already satisfied: pytz>=2020.1 in /usr/local/lib/python3.10/dist-packages (from pandas>=0.24->catboost) (2022.7.1)\n",
            "Requirement already satisfied: contourpy>=1.0.1 in /usr/local/lib/python3.10/dist-packages (from matplotlib->catboost) (1.1.0)\n",
            "Requirement already satisfied: cycler>=0.10 in /usr/local/lib/python3.10/dist-packages (from matplotlib->catboost) (0.11.0)\n",
            "Requirement already satisfied: fonttools>=4.22.0 in /usr/local/lib/python3.10/dist-packages (from matplotlib->catboost) (4.41.1)\n",
            "Requirement already satisfied: kiwisolver>=1.0.1 in /usr/local/lib/python3.10/dist-packages (from matplotlib->catboost) (1.4.4)\n",
            "Requirement already satisfied: packaging>=20.0 in /usr/local/lib/python3.10/dist-packages (from matplotlib->catboost) (23.1)\n",
            "Requirement already satisfied: pillow>=6.2.0 in /usr/local/lib/python3.10/dist-packages (from matplotlib->catboost) (9.4.0)\n",
            "Requirement already satisfied: pyparsing>=2.3.1 in /usr/local/lib/python3.10/dist-packages (from matplotlib->catboost) (3.1.0)\n",
            "Requirement already satisfied: tenacity>=6.2.0 in /usr/local/lib/python3.10/dist-packages (from plotly->catboost) (8.2.2)\n",
            "\n",
            "\u001b[1m[\u001b[0m\u001b[34;49mnotice\u001b[0m\u001b[1;39;49m]\u001b[0m\u001b[39;49m A new release of pip is available: \u001b[0m\u001b[31;49m23.0.1\u001b[0m\u001b[39;49m -> \u001b[0m\u001b[32;49m25.2\u001b[0m\n",
            "\u001b[1m[\u001b[0m\u001b[34;49mnotice\u001b[0m\u001b[1;39;49m]\u001b[0m\u001b[39;49m To update, run: \u001b[0m\u001b[32;49mpython3 -m pip install --upgrade pip\u001b[0m\n"
          ]
        }
      ],
      "source": [
        "pip install catboost"
      ]
    },
    {
      "cell_type": "code",
      "execution_count": null,
      "metadata": {
        "colab": {
          "base_uri": "https://localhost:8080/"
        },
        "execution": {
          "iopub.execute_input": "2025-10-24T21:12:42.386414Z",
          "iopub.status.busy": "2025-10-24T21:12:42.385555Z",
          "iopub.status.idle": "2025-10-24T21:12:45.804371Z",
          "shell.execute_reply": "2025-10-24T21:12:45.803122Z",
          "shell.execute_reply.started": "2025-10-24T21:12:42.386371Z"
        },
        "id": "itB2CW-frxFW",
        "outputId": "2ba4c3c2-3588-4d3b-dde7-96a961422f3c",
        "tags": []
      },
      "outputs": [
        {
          "name": "stdout",
          "output_type": "stream",
          "text": [
            "Defaulting to user installation because normal site-packages is not writeable\n",
            "Requirement already satisfied: implicit in /home/jupyter/.local/lib/python3.10/site-packages (0.7.2)\n",
            "Requirement already satisfied: numpy>=1.17.0 in /home/jupyter/.local/lib/python3.10/site-packages (from implicit) (1.26.4)\n",
            "Requirement already satisfied: scipy>=0.16 in /usr/local/lib/python3.10/dist-packages (from implicit) (1.10.1)\n",
            "Requirement already satisfied: tqdm>=4.27 in /usr/local/lib/python3.10/dist-packages (from implicit) (4.65.0)\n",
            "Requirement already satisfied: threadpoolctl in /usr/local/lib/python3.10/dist-packages (from implicit) (3.2.0)\n",
            "\n",
            "\u001b[1m[\u001b[0m\u001b[34;49mnotice\u001b[0m\u001b[1;39;49m]\u001b[0m\u001b[39;49m A new release of pip is available: \u001b[0m\u001b[31;49m23.0.1\u001b[0m\u001b[39;49m -> \u001b[0m\u001b[32;49m25.2\u001b[0m\n",
            "\u001b[1m[\u001b[0m\u001b[34;49mnotice\u001b[0m\u001b[1;39;49m]\u001b[0m\u001b[39;49m To update, run: \u001b[0m\u001b[32;49mpython3 -m pip install --upgrade pip\u001b[0m\n"
          ]
        }
      ],
      "source": [
        "pip install implicit"
      ]
    },
    {
      "cell_type": "code",
      "execution_count": null,
      "metadata": {
        "colab": {
          "base_uri": "https://localhost:8080/"
        },
        "execution": {
          "iopub.execute_input": "2025-10-24T21:12:45.807133Z",
          "iopub.status.busy": "2025-10-24T21:12:45.806425Z",
          "iopub.status.idle": "2025-10-24T21:12:49.188283Z",
          "shell.execute_reply": "2025-10-24T21:12:49.186935Z",
          "shell.execute_reply.started": "2025-10-24T21:12:45.807094Z"
        },
        "id": "aQg8Z6d8unYV",
        "outputId": "99e06aa9-ff02-4a74-cf9b-caef72c408ea",
        "tags": []
      },
      "outputs": [
        {
          "name": "stdout",
          "output_type": "stream",
          "text": [
            "Defaulting to user installation because normal site-packages is not writeable\n",
            "Requirement already satisfied: faiss-cpu in /home/jupyter/.local/lib/python3.10/site-packages (1.12.0)\n",
            "Requirement already satisfied: numpy<3.0,>=1.25.0 in /home/jupyter/.local/lib/python3.10/site-packages (from faiss-cpu) (1.26.4)\n",
            "Requirement already satisfied: packaging in /usr/local/lib/python3.10/dist-packages (from faiss-cpu) (23.1)\n",
            "\n",
            "\u001b[1m[\u001b[0m\u001b[34;49mnotice\u001b[0m\u001b[1;39;49m]\u001b[0m\u001b[39;49m A new release of pip is available: \u001b[0m\u001b[31;49m23.0.1\u001b[0m\u001b[39;49m -> \u001b[0m\u001b[32;49m25.2\u001b[0m\n",
            "\u001b[1m[\u001b[0m\u001b[34;49mnotice\u001b[0m\u001b[1;39;49m]\u001b[0m\u001b[39;49m To update, run: \u001b[0m\u001b[32;49mpython3 -m pip install --upgrade pip\u001b[0m\n"
          ]
        }
      ],
      "source": [
        "pip install faiss-cpu"
      ]
    },
    {
      "cell_type": "code",
      "execution_count": null,
      "metadata": {
        "execution": {
          "iopub.execute_input": "2025-10-24T21:12:49.190911Z",
          "iopub.status.busy": "2025-10-24T21:12:49.190285Z",
          "iopub.status.idle": "2025-10-24T21:12:49.404760Z",
          "shell.execute_reply": "2025-10-24T21:12:49.403537Z",
          "shell.execute_reply.started": "2025-10-24T21:12:49.190870Z"
        },
        "id": "qMEj_iwvrO6m",
        "tags": []
      },
      "outputs": [],
      "source": [
        "import faiss"
      ]
    },
    {
      "cell_type": "code",
      "execution_count": null,
      "metadata": {
        "colab": {
          "base_uri": "https://localhost:8080/",
          "height": 209
        },
        "execution": {
          "iopub.execute_input": "2025-10-24T21:12:49.407242Z",
          "iopub.status.busy": "2025-10-24T21:12:49.406164Z",
          "iopub.status.idle": "2025-10-24T21:12:49.861766Z",
          "shell.execute_reply": "2025-10-24T21:12:49.860431Z",
          "shell.execute_reply.started": "2025-10-24T21:12:49.407206Z"
        },
        "id": "U-DgKJZdrO6o",
        "outputId": "059e667f-a486-48a0-babd-77c643d0f5d7",
        "tags": []
      },
      "outputs": [
        {
          "data": {
            "text/plain": [
              "'\\nevents.csv - интеракции пользователей (история оценок)\\nuser_features.csv - признаки пользователя\\nitem_features.csv - признаки фильмов\\nsubmission_sample.csv - пример сабмита\\nФормат сабмита: user_id[str], item_id[str] - см submission_sample.csv\\n'"
            ]
          },
          "execution_count": 8,
          "metadata": {},
          "output_type": "execute_result"
        }
      ],
      "source": [
        "events = pd.read_csv('hse-rec-sys-challenge-2025/events.csv')\n",
        "item_features = pd.read_csv('hse-rec-sys-challenge-2025/item_features.csv')\n",
        "submission_sample = pd.read_csv('hse-rec-sys-challenge-2025/submission_sample.csv')\n",
        "user_features = pd.read_csv('hse-rec-sys-challenge-2025/user_features.csv')\n",
        "\n"
      ]
    },
    {
      "cell_type": "code",
      "execution_count": null,
      "metadata": {
        "colab": {
          "base_uri": "https://localhost:8080/",
          "height": 413
        },
        "execution": {
          "iopub.execute_input": "2025-10-24T21:12:49.863838Z",
          "iopub.status.busy": "2025-10-24T21:12:49.863186Z",
          "iopub.status.idle": "2025-10-24T21:12:49.914653Z",
          "shell.execute_reply": "2025-10-24T21:12:49.913617Z",
          "shell.execute_reply.started": "2025-10-24T21:12:49.863800Z"
        },
        "id": "odulfKuqrO6p",
        "outputId": "b89586b2-0218-43ae-de50-99dc14637216"
      },
      "outputs": [
        {
          "data": {
            "text/html": [
              "<div>\n",
              "<style scoped>\n",
              "    .dataframe tbody tr th:only-of-type {\n",
              "        vertical-align: middle;\n",
              "    }\n",
              "\n",
              "    .dataframe tbody tr th {\n",
              "        vertical-align: top;\n",
              "    }\n",
              "\n",
              "    .dataframe thead th {\n",
              "        text-align: right;\n",
              "    }\n",
              "</style>\n",
              "<table border=\"1\" class=\"dataframe\">\n",
              "  <thead>\n",
              "    <tr style=\"text-align: right;\">\n",
              "      <th></th>\n",
              "      <th>user_id</th>\n",
              "      <th>item_id</th>\n",
              "      <th>rating</th>\n",
              "      <th>timestamp</th>\n",
              "    </tr>\n",
              "  </thead>\n",
              "  <tbody>\n",
              "    <tr>\n",
              "      <th>0</th>\n",
              "      <td>0</td>\n",
              "      <td>1505</td>\n",
              "      <td>4</td>\n",
              "      <td>0</td>\n",
              "    </tr>\n",
              "    <tr>\n",
              "      <th>1</th>\n",
              "      <td>0</td>\n",
              "      <td>3669</td>\n",
              "      <td>3</td>\n",
              "      <td>1</td>\n",
              "    </tr>\n",
              "  </tbody>\n",
              "</table>\n",
              "</div>"
            ],
            "text/plain": [
              "   user_id  item_id  rating  timestamp\n",
              "0        0     1505       4          0\n",
              "1        0     3669       3          1"
            ]
          },
          "metadata": {},
          "output_type": "display_data"
        },
        {
          "data": {
            "text/html": [
              "<div>\n",
              "<style scoped>\n",
              "    .dataframe tbody tr th:only-of-type {\n",
              "        vertical-align: middle;\n",
              "    }\n",
              "\n",
              "    .dataframe tbody tr th {\n",
              "        vertical-align: top;\n",
              "    }\n",
              "\n",
              "    .dataframe thead th {\n",
              "        text-align: right;\n",
              "    }\n",
              "</style>\n",
              "<table border=\"1\" class=\"dataframe\">\n",
              "  <thead>\n",
              "    <tr style=\"text-align: right;\">\n",
              "      <th></th>\n",
              "      <th>item_id</th>\n",
              "      <th>genre_0</th>\n",
              "      <th>genre_1</th>\n",
              "      <th>genre_2</th>\n",
              "      <th>genre_3</th>\n",
              "      <th>genre_4</th>\n",
              "      <th>genre_5</th>\n",
              "      <th>genre_6</th>\n",
              "      <th>genre_7</th>\n",
              "      <th>genre_8</th>\n",
              "      <th>genre_9</th>\n",
              "      <th>genre_10</th>\n",
              "      <th>genre_11</th>\n",
              "      <th>genre_12</th>\n",
              "      <th>genre_13</th>\n",
              "      <th>genre_14</th>\n",
              "      <th>genre_15</th>\n",
              "      <th>genre_16</th>\n",
              "      <th>genre_17</th>\n",
              "    </tr>\n",
              "  </thead>\n",
              "  <tbody>\n",
              "    <tr>\n",
              "      <th>0</th>\n",
              "      <td>0</td>\n",
              "      <td>0</td>\n",
              "      <td>1</td>\n",
              "      <td>0</td>\n",
              "      <td>1</td>\n",
              "      <td>1</td>\n",
              "      <td>0</td>\n",
              "      <td>0</td>\n",
              "      <td>0</td>\n",
              "      <td>1</td>\n",
              "      <td>0</td>\n",
              "      <td>0</td>\n",
              "      <td>0</td>\n",
              "      <td>0</td>\n",
              "      <td>1</td>\n",
              "      <td>0</td>\n",
              "      <td>0</td>\n",
              "      <td>0</td>\n",
              "      <td>0</td>\n",
              "    </tr>\n",
              "    <tr>\n",
              "      <th>1</th>\n",
              "      <td>1</td>\n",
              "      <td>0</td>\n",
              "      <td>0</td>\n",
              "      <td>0</td>\n",
              "      <td>0</td>\n",
              "      <td>0</td>\n",
              "      <td>0</td>\n",
              "      <td>0</td>\n",
              "      <td>1</td>\n",
              "      <td>0</td>\n",
              "      <td>0</td>\n",
              "      <td>0</td>\n",
              "      <td>0</td>\n",
              "      <td>0</td>\n",
              "      <td>0</td>\n",
              "      <td>0</td>\n",
              "      <td>0</td>\n",
              "      <td>0</td>\n",
              "      <td>0</td>\n",
              "    </tr>\n",
              "  </tbody>\n",
              "</table>\n",
              "</div>"
            ],
            "text/plain": [
              "   item_id  genre_0  genre_1  genre_2  genre_3  genre_4  genre_5  genre_6  \\\n",
              "0        0        0        1        0        1        1        0        0   \n",
              "1        1        0        0        0        0        0        0        0   \n",
              "\n",
              "   genre_7  genre_8  genre_9  genre_10  genre_11  genre_12  genre_13  \\\n",
              "0        0        1        0         0         0         0         1   \n",
              "1        1        0        0         0         0         0         0   \n",
              "\n",
              "   genre_14  genre_15  genre_16  genre_17  \n",
              "0         0         0         0         0  \n",
              "1         0         0         0         0  "
            ]
          },
          "metadata": {},
          "output_type": "display_data"
        },
        {
          "data": {
            "text/html": [
              "<div>\n",
              "<style scoped>\n",
              "    .dataframe tbody tr th:only-of-type {\n",
              "        vertical-align: middle;\n",
              "    }\n",
              "\n",
              "    .dataframe tbody tr th {\n",
              "        vertical-align: top;\n",
              "    }\n",
              "\n",
              "    .dataframe thead th {\n",
              "        text-align: right;\n",
              "    }\n",
              "</style>\n",
              "<table border=\"1\" class=\"dataframe\">\n",
              "  <thead>\n",
              "    <tr style=\"text-align: right;\">\n",
              "      <th></th>\n",
              "      <th>user_id</th>\n",
              "      <th>item_id</th>\n",
              "    </tr>\n",
              "  </thead>\n",
              "  <tbody>\n",
              "    <tr>\n",
              "      <th>0</th>\n",
              "      <td>0</td>\n",
              "      <td>0 1 2 3 4 5 6 7 8 9</td>\n",
              "    </tr>\n",
              "    <tr>\n",
              "      <th>1</th>\n",
              "      <td>1</td>\n",
              "      <td>0 1 2 3 4 5 6 7 8 9</td>\n",
              "    </tr>\n",
              "  </tbody>\n",
              "</table>\n",
              "</div>"
            ],
            "text/plain": [
              "   user_id              item_id\n",
              "0        0  0 1 2 3 4 5 6 7 8 9\n",
              "1        1  0 1 2 3 4 5 6 7 8 9"
            ]
          },
          "metadata": {},
          "output_type": "display_data"
        },
        {
          "data": {
            "text/html": [
              "<div>\n",
              "<style scoped>\n",
              "    .dataframe tbody tr th:only-of-type {\n",
              "        vertical-align: middle;\n",
              "    }\n",
              "\n",
              "    .dataframe tbody tr th {\n",
              "        vertical-align: top;\n",
              "    }\n",
              "\n",
              "    .dataframe thead th {\n",
              "        text-align: right;\n",
              "    }\n",
              "</style>\n",
              "<table border=\"1\" class=\"dataframe\">\n",
              "  <thead>\n",
              "    <tr style=\"text-align: right;\">\n",
              "      <th></th>\n",
              "      <th>user_id</th>\n",
              "      <th>gender</th>\n",
              "      <th>age</th>\n",
              "    </tr>\n",
              "  </thead>\n",
              "  <tbody>\n",
              "    <tr>\n",
              "      <th>0</th>\n",
              "      <td>4855</td>\n",
              "      <td>F</td>\n",
              "      <td>1</td>\n",
              "    </tr>\n",
              "    <tr>\n",
              "      <th>1</th>\n",
              "      <td>4065</td>\n",
              "      <td>M</td>\n",
              "      <td>56</td>\n",
              "    </tr>\n",
              "  </tbody>\n",
              "</table>\n",
              "</div>"
            ],
            "text/plain": [
              "   user_id gender  age\n",
              "0     4855      F    1\n",
              "1     4065      M   56"
            ]
          },
          "metadata": {},
          "output_type": "display_data"
        }
      ],
      "source": [
        "display(events.head(2), item_features.head(2), submission_sample.head(2), user_features.head(2))"
      ]
    },
    {
      "cell_type": "code",
      "execution_count": null,
      "metadata": {
        "colab": {
          "base_uri": "https://localhost:8080/",
          "height": 490
        },
        "execution": {
          "iopub.execute_input": "2025-10-24T21:12:49.919483Z",
          "iopub.status.busy": "2025-10-24T21:12:49.918666Z",
          "iopub.status.idle": "2025-10-24T21:12:50.210689Z",
          "shell.execute_reply": "2025-10-24T21:12:50.209446Z",
          "shell.execute_reply.started": "2025-10-24T21:12:49.919449Z"
        },
        "id": "HmaMdECPrO6p",
        "outputId": "534b0caf-a19d-4917-8c2c-aef043ffaf01"
      },
      "outputs": [
        {
          "data": {
            "text/plain": [
              "user_id\n",
              "488       14\n",
              "3123      15\n",
              "1943      15\n",
              "4112      15\n",
              "5856      15\n",
              "        ... \n",
              "4018    1390\n",
              "4635    1438\n",
              "4285    1544\n",
              "69      1675\n",
              "2257    2056\n",
              "Name: item_id, Length: 6040, dtype: int64"
            ]
          },
          "execution_count": 10,
          "metadata": {},
          "output_type": "execute_result"
        }
      ],
      "source": [
        "events.groupby('user_id')['item_id'].nunique().sort_values(ascending=True)"
      ]
    },
    {
      "cell_type": "markdown",
      "metadata": {
        "id": "5S2RpI5FrO6q"
      },
      "source": [
        "## Сделаем изначальный сплит на трейн вал тест для бустинга. Далее сплиты будут выполняться на полученной выборке трейн."
      ]
    },
    {
      "cell_type": "code",
      "execution_count": null,
      "metadata": {
        "execution": {
          "iopub.execute_input": "2025-10-24T21:12:50.212977Z",
          "iopub.status.busy": "2025-10-24T21:12:50.212163Z",
          "iopub.status.idle": "2025-10-24T21:12:50.230412Z",
          "shell.execute_reply": "2025-10-24T21:12:50.229163Z",
          "shell.execute_reply.started": "2025-10-24T21:12:50.212941Z"
        },
        "id": "D2rzFPNZrO6q"
      },
      "outputs": [],
      "source": [
        "# Функция для разделения данных на train, val, test (User time split)\n",
        "def train_val_test_split(df, val_size=0.1, test_size=0.1):\n",
        "    train_data, val_data, test_data = [], [], []\n",
        "\n",
        "    for user in df['user_id_idx'].unique():\n",
        "        user_data = df[df['user_id_idx'] == user].sort_values('timestamp')\n",
        "        n = len(user_data)\n",
        "\n",
        "        # Для вал выборке отбираем 5 фильмов, для теста - 10\n",
        "        test_split = max(int(n * (1 - test_size)), (n - 10))\n",
        "        val_split = max(int(test_split * (1 - val_size)), (n - 15))\n",
        "\n",
        "        train_data.append(user_data.iloc[:val_split])\n",
        "        val_data.append(user_data.iloc[val_split:test_split])\n",
        "        test_data.append(user_data.iloc[test_split:])\n",
        "\n",
        "    train_data = pd.concat(train_data)\n",
        "    val_data = pd.concat(val_data)\n",
        "    test_data = pd.concat(test_data)\n",
        "\n",
        "    return train_data, val_data, test_data\n",
        "\n",
        "\n",
        "# Создаем разреженные матрицы взаимодействий\n",
        "def create_sparse_matrix(df, n_users, n_items):\n",
        "    # строки - пользователи, столбцы - айтемы (user-item матрица)\n",
        "    return csr_matrix((df['rating'], (df['user_id_idx'], df['item_id_idx'])), shape=(n_users, n_items))"
      ]
    },
    {
      "cell_type": "code",
      "execution_count": null,
      "metadata": {
        "colab": {
          "base_uri": "https://localhost:8080/"
        },
        "execution": {
          "iopub.execute_input": "2025-10-24T21:12:50.232457Z",
          "iopub.status.busy": "2025-10-24T21:12:50.231771Z",
          "iopub.status.idle": "2025-10-24T21:12:50.337180Z",
          "shell.execute_reply": "2025-10-24T21:12:50.336032Z",
          "shell.execute_reply.started": "2025-10-24T21:12:50.232403Z"
        },
        "id": "yFO7ia4LrO6q",
        "outputId": "16fb9cb4-4567-41c7-ddf3-3ce32c179dbd"
      },
      "outputs": [
        {
          "name": "stdout",
          "output_type": "stream",
          "text": [
            "6040 3690\n"
          ]
        }
      ],
      "source": [
        "# Переиндексация user_id и item_id (чтобы индексы были последовательны и начинались с 0)\n",
        "events['user_id_idx'], user_index = pd.factorize(events['user_id'])\n",
        "events['item_id_idx'], item_index = pd.factorize(events['item_id'])\n",
        "\n",
        "\n",
        "n_users_glob = events['user_id_idx'].nunique()\n",
        "n_items_glob = events['item_id_idx'].nunique()\n",
        "print(n_users_glob, n_items_glob)"
      ]
    },
    {
      "cell_type": "code",
      "execution_count": null,
      "metadata": {
        "execution": {
          "iopub.execute_input": "2025-10-24T21:12:50.339303Z",
          "iopub.status.busy": "2025-10-24T21:12:50.338679Z",
          "iopub.status.idle": "2025-10-24T21:12:59.938400Z",
          "shell.execute_reply": "2025-10-24T21:12:59.937168Z",
          "shell.execute_reply.started": "2025-10-24T21:12:50.339258Z"
        },
        "id": "28uPjg4prO6q"
      },
      "outputs": [],
      "source": [
        "# Разделяем данные для catboost\n",
        "train_data_glob, val_data_glob, test_data_glob = train_val_test_split(events, val_size=0.1, test_size=0.1)\n",
        "\n",
        "not_train_data_glob = pd.concat([val_data_glob, test_data_glob], axis=0) # Выборка для последнего скоринга"
      ]
    },
    {
      "cell_type": "code",
      "execution_count": null,
      "metadata": {
        "execution": {
          "iopub.execute_input": "2025-10-24T21:12:59.940982Z",
          "iopub.status.busy": "2025-10-24T21:12:59.939767Z",
          "iopub.status.idle": "2025-10-24T21:13:00.031130Z",
          "shell.execute_reply": "2025-10-24T21:13:00.029863Z",
          "shell.execute_reply.started": "2025-10-24T21:12:59.940920Z"
        },
        "id": "n23yMlOGrO6r"
      },
      "outputs": [],
      "source": [
        "# Создаем разреженные матрицы взаимодействий\n",
        "train_matrix_glob = create_sparse_matrix(train_data_glob, n_users_glob, n_items_glob)\n",
        "val_matrix_glob = create_sparse_matrix(val_data_glob, n_users_glob, n_items_glob)\n",
        "test_matrix_glob = create_sparse_matrix(test_data_glob, n_users_glob, n_items_glob)\n",
        "\n",
        "not_train_matrix_glob = create_sparse_matrix(not_train_data_glob, n_users_glob, n_items_glob)"
      ]
    },
    {
      "cell_type": "markdown",
      "metadata": {
        "id": "som7BGDarO6r"
      },
      "source": [
        "### Далее для обучения промежуточных моделей будем использовать выборку  **train_data_glob**"
      ]
    },
    {
      "cell_type": "markdown",
      "metadata": {
        "id": "VMyo_eEdrO6r"
      },
      "source": [
        "## Feature engineering"
      ]
    },
    {
      "cell_type": "code",
      "execution_count": null,
      "metadata": {
        "colab": {
          "base_uri": "https://localhost:8080/",
          "height": 624
        },
        "execution": {
          "iopub.execute_input": "2025-10-24T21:13:00.034565Z",
          "iopub.status.busy": "2025-10-24T21:13:00.033188Z",
          "iopub.status.idle": "2025-10-24T21:14:47.411376Z",
          "shell.execute_reply": "2025-10-24T21:14:47.410310Z",
          "shell.execute_reply.started": "2025-10-24T21:13:00.034484Z"
        },
        "id": "FLkpXq3lrO6r",
        "outputId": "770e86e5-975a-4cac-ab26-bf8c178d7a59"
      },
      "outputs": [
        {
          "data": {
            "image/png": "[encoded data removed]",
            "text/plain": [
              "<Figure size 640x480 with 1 Axes>"
            ]
          },
          "metadata": {},
          "output_type": "display_data"
        },
        {
          "data": {
            "image/png": "[encoded data removed]",
            "text/plain": [
              "<Figure size 640x480 with 1 Axes>"
            ]
          },
          "metadata": {},
          "output_type": "display_data"
        },
        {
          "data": {
            "image/png": "[encoded data removed]",
            "text/plain": [
              "<Figure size 640x480 with 1 Axes>"
            ]
          },
          "metadata": {},
          "output_type": "display_data"
        },
        {
          "data": {
            "text/plain": [
              "rating_user_normalized_round   -0.017844\n",
              "rating_item_normalized_round    0.002703\n",
              "dtype: float64"
            ]
          },
          "metadata": {},
          "output_type": "display_data"
        }
      ],
      "source": [
        "df = events.copy()\n",
        "\n",
        "# Общее количество доступных фильмов\n",
        "num_total_items = df['item_id'].nunique()\n",
        "\n",
        "positive_threshold = 4\n",
        "\n",
        "# Агрегация по 'user_id'\n",
        "user_features_group = df.groupby('user_id').agg(\n",
        "    user_avg_rating=('rating', 'mean'),\n",
        "    user_min_rating=('rating', 'min'),\n",
        "    user_max_rating=('rating', 'max'),\n",
        "    user_rating_count=('rating', 'count'),\n",
        "    user_rating_std=('rating', 'std'),\n",
        "    user_unique_items=('item_id', 'nunique'),\n",
        "    user_start_time=('timestamp', 'min'),\n",
        "    last_user_activity=('timestamp', 'max'),\n",
        "    user_activity_timedelta=('timestamp', lambda x: x.diff().mean()),\n",
        "\n",
        "    # Количество фильмов, которые пользователь оценил положительно\n",
        "    user_positive_items=(\"rating\", lambda x: (x >= positive_threshold).sum()),\n",
        "    # Доля непросмотренных фильмов (если есть информация о всех доступных фильмах)\n",
        "    user_unwatched_ratio=('item_id', lambda x: 1 - x.nunique() / num_total_items)\n",
        "\n",
        "\n",
        ").reset_index()\n",
        "\n",
        "# Добавление доли положительных оценок\n",
        "\n",
        "user_positive_count = df[df['rating'] >= positive_threshold].groupby('user_id')['rating'].count()\n",
        "user_features_group = user_features_group.merge(user_positive_count.rename('user_positive_rating_count'), on='user_id', how='left')\n",
        "user_features_group['user_positive_rating_ratio'] = user_features_group['user_positive_rating_count'].fillna(0) / user_features_group['user_rating_count']\n",
        "\n",
        "# Вычисление отклонения от среднего\n",
        "overall_avg_rating = df['rating'].mean()\n",
        "user_features_group['user_bias'] = user_features_group['user_avg_rating'] - overall_avg_rating\n",
        "\n",
        "# Агрегация по 'item_id'\n",
        "item_features_group = df.groupby('item_id').agg(\n",
        "    item_avg_rating=('rating', 'mean'),\n",
        "    item_min_rating=('rating', 'min'),\n",
        "    item_max_rating=('rating', 'max'),\n",
        "    item_rating_count=('rating', 'count'),\n",
        "    item_unique_users=('user_id', 'nunique'),\n",
        "    last_item_rating_time=('timestamp', 'max'),\n",
        "    first_item_rating_time=('timestamp', 'min'),\n",
        "\n",
        "    # Разнообразие оценок (например, число уникальных оценок)\n",
        "    item_rating_diversity=('rating', 'nunique')\n",
        ").reset_index()\n",
        "\n",
        "# Добавление доли положительных оценок\n",
        "item_positive_count = df[df['rating'] >= positive_threshold].groupby('item_id')['rating'].count()\n",
        "item_features_group = item_features_group.merge(item_positive_count.rename('item_positive_rating_count'), on='item_id', how='left')\n",
        "item_features_group['item_positive_rating_ratio'] = item_features_group['item_positive_rating_count'].fillna(0) / item_features_group['item_rating_count']\n",
        "\n",
        "# Присоединение вычисленных признаков обратно к исходному датафрейму\n",
        "df = df.merge(user_features_group, on='user_id', how='left')\n",
        "df = df.merge(item_features_group, on='item_id', how='left')\n",
        "\n",
        "# Вычисление текущей новизны просмотра фильма\n",
        "df['item_recency'] = df['last_item_rating_time'] - df['timestamp']\n",
        "# Вычисление текущей старины просмотра фильма\n",
        "df['item_olden'] = df['timestamp'] - df['first_item_rating_time']\n",
        "\n",
        "\n",
        "# Средний рейтинг, полученный фильмом за последние N оценок\n",
        "N_list = list(range(2, 51, 2))\n",
        "df_sorted = df.sort_values(by=['item_id', 'timestamp'], ascending=[True, False])\n",
        "for n in N_list:\n",
        "    df_sorted[f'top_{n}_avg_rating_item'] = df_sorted.groupby('item_id')['rating'].transform(lambda x: x.head(n).mean())\n",
        "    df = df.join(df_sorted.set_index(['user_id', 'item_id'])[f'top_{n}_avg_rating_item'], on=['user_id', 'item_id'], rsuffix='_recent')\n",
        "del df_sorted\n",
        "\n",
        "\n",
        "# Средний рейтинг, поставленный пользователем на последние N фильмов\n",
        "N_list = list(range(2, 51, 2))\n",
        "df_sorted = df.sort_values(by=['user_id', 'timestamp'], ascending=[True, False])\n",
        "for n in N_list:\n",
        "    df_sorted[f'top_{n}_avg_rating_user'] = df_sorted.groupby('item_id')['rating'].transform(lambda x: x.head(n).mean())\n",
        "    df = df.join(df_sorted.set_index(['user_id', 'item_id'])[f'top_{n}_avg_rating_user'], on=['user_id', 'item_id'], rsuffix='_recent')\n",
        "del df_sorted\n",
        "\n",
        "\n",
        "# Кумулятивная средняя оценка юзера\n",
        "df['rating_user_cumsum'] = df.groupby('user_id')['rating'].cumsum()\n",
        "df['rating_user_cumcount'] = df.groupby('user_id')['rating'].cumcount()\n",
        "df['rating_user_cummean'] = (df['rating_user_cumsum'] / df['rating_user_cumcount']).replace(np.inf, 0)\n",
        "\n",
        "# Кумулятивная средняя оценка фильма\n",
        "df['rating_item_cumsum'] = df.groupby('item_id')['rating'].cumsum()\n",
        "df['rating_item_cumcount'] = df.groupby('item_id')['rating'].cumcount()\n",
        "df['rating_item_cummean'] = (df['rating_item_cumsum'] / df['rating_item_cumcount']).replace(np.inf, 0)\n",
        "\n",
        "\n",
        "\n",
        "df.rating.hist()\n",
        "plt.show()\n",
        "\n",
        "# Отнормированный рейтинг по пользователю с учетом его средней оценки, на практике получаем классическое норм расп оценок из изначально не нормального\n",
        "# (Обычно такой прием хорошо работает на опросниках людей)\n",
        "df['rating_user_normalized'] = df['rating'] - df.groupby('user_id')['rating'].transform('mean')\n",
        "df['rating_user_normalized_round'] = df['rating'] - df.groupby('user_id')['rating'].transform('mean').round(0)\n",
        "df['rating_user_normalized'].hist(), df['rating_user_normalized_round'].hist()\n",
        "plt.show()\n",
        "\n",
        "# Отнормированный рейтинг по фильму с учетом его средней оценки\n",
        "df['rating_item_normalized'] = df['rating'] - df.groupby('item_id')['rating'].transform('mean')\n",
        "df['rating_item_normalized_round'] = df['rating'] - df.groupby('item_id')['rating'].transform('mean').round(0)\n",
        "df['rating_item_normalized'].hist(), df['rating_item_normalized_round'].hist()\n",
        "plt.show()\n",
        "\n",
        "display(df[['rating_user_normalized_round', 'rating_item_normalized_round']].mean())"
      ]
    },
    {
      "cell_type": "markdown",
      "metadata": {
        "id": "pogHftGFrO6s"
      },
      "source": [
        "### Учет пола и возраста"
      ]
    },
    {
      "cell_type": "code",
      "execution_count": null,
      "metadata": {
        "execution": {
          "iopub.execute_input": "2025-10-24T21:14:47.414189Z",
          "iopub.status.busy": "2025-10-24T21:14:47.413333Z",
          "iopub.status.idle": "2025-10-24T21:14:52.739137Z",
          "shell.execute_reply": "2025-10-24T21:14:52.737969Z",
          "shell.execute_reply.started": "2025-10-24T21:14:47.414139Z"
        },
        "id": "hn6zwCbTrO6s"
      },
      "outputs": [],
      "source": [
        "# Пол переводим в булевую\n",
        "user_features['gender'] = user_features['gender'].map({'M':1, 'F':0})\n",
        "df = df.merge(user_features, on='user_id', how='left')\n",
        "\n",
        "# Возраст уже забинен в колонке, уникальных значений мало и они логически разбиты на этапы жизни челяди, поэтому оставляем как есть\n",
        "# Считаем схожие фичи, но с условием агрегации на пол и возраст\n",
        "gender_age_features = df.groupby(['gender', 'age']).agg(\n",
        "    gender_age_avg_rating=('rating', 'mean'),\n",
        "    gender_age_min_rating=('rating', 'min'),\n",
        "    gender_age_max_rating=('rating', 'max'),\n",
        "    gender_age_rating_count=('rating', 'count'),\n",
        "    gender_age_unique_users=('user_id', 'nunique'),\n",
        "    gender_age_start_time=('timestamp', 'min'),\n",
        "    gender_age_last_activity=('timestamp', 'max'),\n",
        "    gender_age_positive_items=('rating', lambda x: (x >= positive_threshold).sum())\n",
        ").reset_index()\n",
        "\n",
        "user_gender_age_features = df.groupby(['user_id', 'gender', 'age']).agg(\n",
        "    user_gender_age_avg_rating=('rating', 'mean'),\n",
        "    user_gender_age_min_rating=('rating', 'min'),\n",
        "    user_gender_age_max_rating=('rating', 'max'),\n",
        "    user_gender_age_rating_count=('rating', 'count'),\n",
        "    user_gender_age_positive_items=('rating', lambda x: (x >= positive_threshold).sum())\n",
        ").reset_index()\n",
        "\n",
        "user_gender_age_variance = df.groupby(['gender', 'age'])['rating'].var().reset_index(name='gender_age_rating_variance')\n",
        "user_gender_age_std = df.groupby(['gender', 'age'])['rating'].std().reset_index(name='gender_age_rating_std')\n",
        "\n",
        "gender_age_positive_ratio = gender_age_features['gender_age_positive_items'] / gender_age_features['gender_age_rating_count']\n",
        "gender_age_features['gender_age_positive_ratio'] = gender_age_positive_ratio\n",
        "\n",
        "overall_gender_age_avg_rating = df.groupby(['gender', 'age'])['rating'].mean().reset_index(name='overall_gender_age_avg_rating')\n",
        "\n",
        "# Объединяем gender_age_features с основным df\n",
        "df = df.merge(gender_age_features, on=['gender', 'age'], how='left', suffixes=('', '_by_gender_age'))\n",
        "# Объединяем user_gender_age_features с основным df\n",
        "df = df.merge(user_gender_age_features, on=['user_id', 'gender', 'age'], how='left', suffixes=('', '_by_user_gender_age'))\n",
        "# Объединяем с дисперсией и стандартным отклонением оценок\n",
        "df = df.merge(user_gender_age_variance, on=['gender', 'age'], how='left')\n",
        "df = df.merge(user_gender_age_std, on=['gender', 'age'], how='left')\n",
        "df = df.merge(overall_gender_age_avg_rating, on=['gender', 'age'], how='left')\n",
        "\n",
        "df['user_gender_age_bias'] = df['user_avg_rating'] - df['overall_gender_age_avg_rating']"
      ]
    },
    {
      "cell_type": "code",
      "execution_count": null,
      "metadata": {
        "execution": {
          "iopub.execute_input": "2025-10-24T21:14:52.742421Z",
          "iopub.status.busy": "2025-10-24T21:14:52.740903Z",
          "iopub.status.idle": "2025-10-24T21:42:38.255530Z",
          "shell.execute_reply": "2025-10-24T21:42:38.254170Z",
          "shell.execute_reply.started": "2025-10-24T21:14:52.742370Z"
        },
        "id": "cT0wKtVdDAMB",
        "tags": []
      },
      "outputs": [],
      "source": [
        "# ==== 1. ЖАНРОВЫЕ ФИЧИ ДЛЯ ПОЛЬЗОВАТЕЛЯ ====\n",
        "genre_cols = [col for col in item_features.columns if col.startswith('genre_')]\n",
        "\n",
        "# Присоединяем жанры к событиям\n",
        "df = df.merge(item_features[['item_id'] + genre_cols], on='item_id', how='left')\n",
        "\n",
        "# Агрегация жанров по пользователю\n",
        "user_genre_pref = df.groupby('user_id')[genre_cols].mean().reset_index()\n",
        "user_genre_pref.columns = ['user_id'] + [f'user_genre_pref_{g}' for g in genre_cols]\n",
        "\n",
        "# Энтропия жанров пользователя\n",
        "user_genre_pref['user_genre_entropy'] = user_genre_pref[\n",
        "    [c for c in user_genre_pref.columns if c.startswith('user_genre_pref_')]\n",
        "].apply(lambda row: -np.nansum(row * np.log(row + 1e-9)), axis=1)\n",
        "\n",
        "df = df.merge(user_genre_pref, on='user_id', how='left')\n",
        "\n",
        "# ==== 2. ЖАНРОВЫЕ ФИЧИ ДЛЯ АЙТЕМОВ ====\n",
        "item_features_group['item_num_genres'] = item_features[genre_cols].sum(axis=1)\n",
        "# Средний рейтинг по каждому жанру у пользователя\n",
        "for g in genre_cols:\n",
        "    df[f'user_avg_{g}'] = df.groupby('user_id').apply(\n",
        "        lambda x: (x['rating'] * x[g]).sum() / x[g].sum() if x[g].sum() > 0 else np.nan\n",
        "    ).reindex(df.index, method='ffill')\n",
        "\n",
        "# ТОП-3 любимых жанра пользователя по количеству оценок\n",
        "user_genre_counts = df.groupby('user_id')[genre_cols].sum()\n",
        "df = df.merge(user_genre_counts, on='user_id', how='left', suffixes=('', '_user_total'))\n",
        "\n",
        "# Является ли жанр айтема топ-3 для пользователя\n",
        "def is_top3(row):\n",
        "    top3 = row[[c + '_user_total' for c in genre_cols]].nlargest(3).index\n",
        "    for g in genre_cols:\n",
        "        if row[g] == 1 and g + '_user_total' in top3:\n",
        "            return 1\n",
        "    return 0\n",
        "\n",
        "df['is_item_in_user_top3_genres'] = df.apply(is_top3, axis=1)\n",
        "\n",
        "\n",
        "df = df.merge(item_features_group[['item_id', 'item_num_genres']], on='item_id', how='left')\n",
        "df['item_is_single_genre'] = (df['item_num_genres'] == 1).astype(int)\n",
        "\n",
        "# ==== 3. ПОПУЛЯРНОСТЬ И RECENCY ====\n",
        "item_pop = df.groupby('item_id')['user_id'].count().reset_index(name='item_interactions')\n",
        "item_pop['item_popularity_rank'] = item_pop['item_interactions'].rank(ascending=False)\n",
        "df = df.merge(item_pop, on='item_id', how='left')\n",
        "\n",
        "# ==== 4. TEMPORAL FEATURES ====\n",
        "df['datetime'] = pd.to_datetime(df['timestamp'], unit='s', errors='ignore')\n",
        "df['hour_of_day'] = df['datetime'].dt.hour\n",
        "df['day_of_week'] = df['datetime'].dt.weekday\n",
        "current_ts = df['timestamp'].max()\n",
        "df['recency_decay'] = np.exp(-0.00001 * (current_ts - df['timestamp']))\n",
        "\n",
        "# Признаки \"усталости\" от фильмов\n",
        "df['user_repeats_items_ratio'] = df['user_rating_count'] / df['user_unique_items']\n",
        "\n",
        "# Накопительная динамика эмоций\n",
        "df['rating_delta_user'] = df.groupby('user_id')['rating'].diff()\n",
        "df['rating_delta_item'] = df.groupby('item_id')['rating'].diff()\n",
        "\n",
        "df['user_rating_interval'] = df.groupby('user_id')['timestamp'].diff()\n",
        "df['user_activity_regularity'] = df.groupby('user_id')['user_rating_interval'].transform('std')"
      ]
    },
    {
      "cell_type": "code",
      "execution_count": null,
      "metadata": {
        "execution": {
          "iopub.execute_input": "2025-10-24T21:42:38.258392Z",
          "iopub.status.busy": "2025-10-24T21:42:38.257438Z",
          "iopub.status.idle": "2025-10-24T21:42:43.988403Z",
          "shell.execute_reply": "2025-10-24T21:42:43.986940Z",
          "shell.execute_reply.started": "2025-10-24T21:42:38.258345Z"
        },
        "id": "93RKGdAqTBL4"
      },
      "outputs": [],
      "source": [
        "# Растут оценки или падают\n",
        "df['item_rating_trend'] = df.groupby('item_id')['rating'].transform(lambda x: x.diff().mean())\n",
        "\n",
        "# Кластеризация по жанрам\n",
        "#genre_cols = [f'genre_{i}' for i in range(18)]\n",
        "#item_genres_matrix = df.drop_duplicates('item_id')[['item_id'] + genre_cols].set_index('item_id')\n",
        "#kmeans = KMeans(n_clusters=8, random_state=42)\n",
        "#item_genres_matrix['genre_cluster'] = kmeans.fit_predict(item_genres_matrix[genre_cols])\n",
        "\n",
        "#df = df.merge(item_genres_matrix['genre_cluster'], on='item_id', how='left')\n",
        "\n",
        "# Кол-во похожих фильмов по жанру, которые юзер смотрел раньше\n",
        "df['has_user_seen_similar_items_before'] = (\n",
        "    df.groupby('user_id')[genre_cols].cumsum().sum(axis=1) > 0\n",
        ").astype(int)\n",
        "\n",
        "# Интеракции user × genre, возраст × genre\n",
        "for g in genre_cols:\n",
        "    df[f'user_genre_pref*{g}'] = df[g] * df['user_avg_rating']\n",
        "    df[f'user_age_item_{g}'] = df[g] * df['age']\n",
        "\n",
        "# Отклонение от среднего на уровне пользователя (без повторов)\n",
        "df['user_rating_deviation'] = df['rating'] - df['user_avg_rating']\n",
        "\n",
        "# Айтемы, оценённые пользователем ровно 1 раз\n",
        "user_item_counts = df.groupby(['user_id', 'item_id']).size().rename('user_item_interaction_count')\n",
        "df = df.merge(user_item_counts, on=['user_id', 'item_id'], how='left')\n",
        "df['user_n_items_rated_once'] = (df['user_item_interaction_count'] == 1).astype(int)"
      ]
    },
    {
      "cell_type": "code",
      "execution_count": null,
      "metadata": {
        "execution": {
          "iopub.execute_input": "2025-10-24T21:42:43.991412Z",
          "iopub.status.busy": "2025-10-24T21:42:43.990198Z",
          "iopub.status.idle": "2025-10-24T21:47:50.330423Z",
          "shell.execute_reply": "2025-10-24T21:47:50.329140Z",
          "shell.execute_reply.started": "2025-10-24T21:42:43.991362Z"
        },
        "id": "2A04L_rwTH6x",
        "tags": []
      },
      "outputs": [],
      "source": [
        "df.to_csv('df_new_features.csv')"
      ]
    },
    {
      "cell_type": "markdown",
      "metadata": {
        "id": "m2g9WTK8rO6t"
      },
      "source": [
        "###  Split dataframe для базовых моделей"
      ]
    },
    {
      "cell_type": "code",
      "execution_count": null,
      "metadata": {
        "execution": {
          "iopub.execute_input": "2025-10-24T21:47:50.333286Z",
          "iopub.status.busy": "2025-10-24T21:47:50.331941Z",
          "iopub.status.idle": "2025-10-24T21:47:50.360851Z",
          "shell.execute_reply": "2025-10-24T21:47:50.359616Z",
          "shell.execute_reply.started": "2025-10-24T21:47:50.333231Z"
        },
        "id": "4fQe_onDrO6t"
      },
      "outputs": [],
      "source": [
        "# Снова переиндексируем items, так как изменилось их общее количество (train стал меньше)\n",
        "train_data_glob['item_id_idx'], item_index = pd.factorize(train_data_glob['item_id_idx'])"
      ]
    },
    {
      "cell_type": "code",
      "execution_count": null,
      "metadata": {
        "execution": {
          "iopub.execute_input": "2025-10-24T21:47:50.363342Z",
          "iopub.status.busy": "2025-10-24T21:47:50.362239Z",
          "iopub.status.idle": "2025-10-24T21:47:59.378762Z",
          "shell.execute_reply": "2025-10-24T21:47:59.376526Z",
          "shell.execute_reply.started": "2025-10-24T21:47:50.363291Z"
        },
        "id": "4rLCtYrNrO6t"
      },
      "outputs": [],
      "source": [
        "train_data, val_data, test_data = train_val_test_split(train_data_glob, val_size=0.1, test_size=0.1)"
      ]
    },
    {
      "cell_type": "code",
      "execution_count": null,
      "metadata": {
        "colab": {
          "base_uri": "https://localhost:8080/"
        },
        "execution": {
          "iopub.execute_input": "2025-10-24T21:47:59.381854Z",
          "iopub.status.busy": "2025-10-24T21:47:59.380511Z",
          "iopub.status.idle": "2025-10-24T21:47:59.412265Z",
          "shell.execute_reply": "2025-10-24T21:47:59.410956Z",
          "shell.execute_reply.started": "2025-10-24T21:47:59.381789Z"
        },
        "id": "m1y3drkqrO6t",
        "outputId": "9adc2646-ac1b-4d8b-d82c-67066fb88353"
      },
      "outputs": [
        {
          "name": "stdout",
          "output_type": "stream",
          "text": [
            "6040 3684\n"
          ]
        }
      ],
      "source": [
        "n_users = train_data_glob['user_id_idx'].nunique()\n",
        "n_items = train_data_glob['item_id_idx'].nunique()\n",
        "print(n_users, n_items)"
      ]
    },
    {
      "cell_type": "code",
      "execution_count": null,
      "metadata": {
        "execution": {
          "iopub.execute_input": "2025-10-24T21:47:59.415356Z",
          "iopub.status.busy": "2025-10-24T21:47:59.413993Z",
          "iopub.status.idle": "2025-10-24T21:47:59.486557Z",
          "shell.execute_reply": "2025-10-24T21:47:59.485299Z",
          "shell.execute_reply.started": "2025-10-24T21:47:59.415306Z"
        },
        "id": "xS5XXueprO6u"
      },
      "outputs": [],
      "source": [
        "# Создаем разреженные матрицы взаимодействий\n",
        "train_matrix = create_sparse_matrix(train_data, n_users, n_items)\n",
        "val_matrix = create_sparse_matrix(val_data, n_users, n_items)\n",
        "test_matrix = create_sparse_matrix(test_data, n_users, n_items)"
      ]
    },
    {
      "cell_type": "markdown",
      "metadata": {
        "id": "JmT_EW44rO6u"
      },
      "source": [
        "## ALS"
      ]
    },
    {
      "cell_type": "code",
      "execution_count": null,
      "metadata": {
        "execution": {
          "iopub.execute_input": "2025-10-24T21:47:59.489573Z",
          "iopub.status.busy": "2025-10-24T21:47:59.487906Z",
          "iopub.status.idle": "2025-10-24T21:47:59.504328Z",
          "shell.execute_reply": "2025-10-24T21:47:59.503309Z",
          "shell.execute_reply.started": "2025-10-24T21:47:59.489518Z"
        },
        "id": "ctoLabIdrO6u"
      },
      "outputs": [],
      "source": [
        "# Функция для расчета Recall@10\n",
        "def recall_at_k(model, user_items, test_items, k=10):\n",
        "    recalls = []\n",
        "    for user_id in range(user_items.shape[0]):\n",
        "        # Проверяем, обучен ли моделью этот пользователь\n",
        "        if user_id >= model.user_factors.shape[0]:\n",
        "            print(f\"User miss in train: {user_id}\")\n",
        "            continue\n",
        "\n",
        "        # Получаем рекомендации для пользователя\n",
        "        recommended_items = model.recommend(user_id, user_items[user_id], N=k)\n",
        "        recommended_item_ids = set(recommended_items[0])\n",
        "\n",
        "        # Истинные айтемы (из теста)\n",
        "        true_item_ids = set(test_items[user_id].nonzero()[1])\n",
        "\n",
        "        # Пропускаем, если нет истинных айтемов\n",
        "        if len(true_item_ids) == 0:\n",
        "            continue\n",
        "\n",
        "        # Считаем Recall\n",
        "        recall = len(recommended_item_ids & true_item_ids) / len(true_item_ids)\n",
        "        recalls.append(recall)\n",
        "\n",
        "    return np.mean(recalls)"
      ]
    },
    {
      "cell_type": "markdown",
      "metadata": {
        "id": "kD-1n6W5rO6u"
      },
      "source": [
        "### поиск лучших параметров\n"
      ]
    },
    {
      "cell_type": "code",
      "execution_count": null,
      "metadata": {
        "colab": {
          "base_uri": "https://localhost:8080/"
        },
        "execution": {
          "iopub.execute_input": "2025-10-24T21:47:59.506810Z",
          "iopub.status.busy": "2025-10-24T21:47:59.505681Z",
          "iopub.status.idle": "2025-10-24T21:55:47.556597Z",
          "shell.execute_reply": "2025-10-24T21:55:47.555493Z",
          "shell.execute_reply.started": "2025-10-24T21:47:59.506775Z"
        },
        "id": "CqQX2XGurO6v",
        "outputId": "41ab0c9a-241f-4f40-f208-35bf45db03ee",
        "tags": []
      },
      "outputs": [
        {
          "name": "stdout",
          "output_type": "stream",
          "text": [
            "Параметры: {'factors': 20, 'iterations': 10, 'regularization': 0.01}, Recall@10: 0.07503666035950804\n",
            "Параметры: {'factors': 20, 'iterations': 10, 'regularization': 0.02}, Recall@10: 0.07497595395774204\n",
            "Параметры: {'factors': 20, 'iterations': 10, 'regularization': 0.05}, Recall@10: 0.07496373383790603\n",
            "Параметры: {'factors': 20, 'iterations': 10, 'regularization': 0.1}, Recall@10: 0.07515137180700095\n",
            "Параметры: {'factors': 20, 'iterations': 15, 'regularization': 0.01}, Recall@10: 0.07583648691264584\n",
            "Параметры: {'factors': 20, 'iterations': 15, 'regularization': 0.02}, Recall@10: 0.07573163040050457\n",
            "Параметры: {'factors': 20, 'iterations': 15, 'regularization': 0.05}, Recall@10: 0.07564214758751182\n",
            "Параметры: {'factors': 20, 'iterations': 15, 'regularization': 0.1}, Recall@10: 0.07513047934405549\n",
            "Параметры: {'factors': 20, 'iterations': 20, 'regularization': 0.01}, Recall@10: 0.07666824345632293\n",
            "Параметры: {'factors': 20, 'iterations': 20, 'regularization': 0.02}, Recall@10: 0.07672619047619049\n",
            "Параметры: {'factors': 20, 'iterations': 20, 'regularization': 0.05}, Recall@10: 0.07654959003468938\n",
            "Параметры: {'factors': 20, 'iterations': 20, 'regularization': 0.1}, Recall@10: 0.0764411857458215\n",
            "Параметры: {'factors': 50, 'iterations': 10, 'regularization': 0.01}, Recall@10: 0.08894867549668874\n",
            "Параметры: {'factors': 50, 'iterations': 10, 'regularization': 0.02}, Recall@10: 0.08868692841374962\n",
            "Параметры: {'factors': 50, 'iterations': 10, 'regularization': 0.05}, Recall@10: 0.08881385998107853\n",
            "Параметры: {'factors': 50, 'iterations': 10, 'regularization': 0.1}, Recall@10: 0.08884145380006307\n",
            "Параметры: {'factors': 50, 'iterations': 15, 'regularization': 0.01}, Recall@10: 0.08950764742983286\n",
            "Параметры: {'factors': 50, 'iterations': 15, 'regularization': 0.02}, Recall@10: 0.08925299590034688\n",
            "Параметры: {'factors': 50, 'iterations': 15, 'regularization': 0.05}, Recall@10: 0.08922855566067486\n",
            "Параметры: {'factors': 50, 'iterations': 15, 'regularization': 0.1}, Recall@10: 0.08963970356354461\n",
            "Параметры: {'factors': 50, 'iterations': 20, 'regularization': 0.01}, Recall@10: 0.08981236203090508\n",
            "Параметры: {'factors': 50, 'iterations': 20, 'regularization': 0.02}, Recall@10: 0.09022114474929045\n",
            "Параметры: {'factors': 50, 'iterations': 20, 'regularization': 0.05}, Recall@10: 0.08998502049826555\n",
            "Параметры: {'factors': 50, 'iterations': 20, 'regularization': 0.1}, Recall@10: 0.09004730368968779\n",
            "Параметры: {'factors': 100, 'iterations': 10, 'regularization': 0.01}, Recall@10: 0.08998896247240618\n",
            "Параметры: {'factors': 100, 'iterations': 10, 'regularization': 0.02}, Recall@10: 0.09012220119836013\n",
            "Параметры: {'factors': 100, 'iterations': 10, 'regularization': 0.05}, Recall@10: 0.0903464995269631\n",
            "Параметры: {'factors': 100, 'iterations': 10, 'regularization': 0.1}, Recall@10: 0.09064608956165247\n",
            "Параметры: {'factors': 100, 'iterations': 15, 'regularization': 0.01}, Recall@10: 0.0909259697256386\n",
            "Параметры: {'factors': 100, 'iterations': 15, 'regularization': 0.02}, Recall@10: 0.09112030905077263\n",
            "Параметры: {'factors': 100, 'iterations': 15, 'regularization': 0.05}, Recall@10: 0.09088812677388837\n",
            "Параметры: {'factors': 100, 'iterations': 15, 'regularization': 0.1}, Recall@10: 0.09118219804478082\n",
            "Параметры: {'factors': 100, 'iterations': 20, 'regularization': 0.01}, Recall@10: 0.09051442762535476\n",
            "Параметры: {'factors': 100, 'iterations': 20, 'regularization': 0.02}, Recall@10: 0.09089561652475561\n",
            "Параметры: {'factors': 100, 'iterations': 20, 'regularization': 0.05}, Recall@10: 0.09101348155156101\n",
            "Параметры: {'factors': 100, 'iterations': 20, 'regularization': 0.1}, Recall@10: 0.09053847366761272\n",
            "Параметры: {'factors': 150, 'iterations': 10, 'regularization': 0.01}, Recall@10: 0.08982773573005362\n",
            "Параметры: {'factors': 150, 'iterations': 10, 'regularization': 0.02}, Recall@10: 0.08939175339009775\n",
            "Параметры: {'factors': 150, 'iterations': 10, 'regularization': 0.05}, Recall@10: 0.08936415957111321\n",
            "Параметры: {'factors': 150, 'iterations': 10, 'regularization': 0.1}, Recall@10: 0.08958175654367709\n",
            "Параметры: {'factors': 150, 'iterations': 15, 'regularization': 0.01}, Recall@10: 0.08963260801009144\n",
            "Параметры: {'factors': 150, 'iterations': 15, 'regularization': 0.02}, Recall@10: 0.08953957742037211\n",
            "Параметры: {'factors': 150, 'iterations': 15, 'regularization': 0.05}, Recall@10: 0.08955889309366132\n",
            "Параметры: {'factors': 150, 'iterations': 15, 'regularization': 0.1}, Recall@10: 0.08913946704509619\n",
            "Параметры: {'factors': 150, 'iterations': 20, 'regularization': 0.01}, Recall@10: 0.0895171081677704\n",
            "Параметры: {'factors': 150, 'iterations': 20, 'regularization': 0.02}, Recall@10: 0.08937677388836329\n",
            "Параметры: {'factors': 150, 'iterations': 20, 'regularization': 0.05}, Recall@10: 0.08883120466729738\n",
            "Параметры: {'factors': 150, 'iterations': 20, 'regularization': 0.1}, Recall@10: 0.08972011983601387\n",
            "Параметры: {'factors': 200, 'iterations': 10, 'regularization': 0.01}, Recall@10: 0.08942447177546516\n",
            "Параметры: {'factors': 200, 'iterations': 10, 'regularization': 0.02}, Recall@10: 0.0900090665405235\n",
            "Параметры: {'factors': 200, 'iterations': 10, 'regularization': 0.05}, Recall@10: 0.08885958688111006\n",
            "Параметры: {'factors': 200, 'iterations': 10, 'regularization': 0.1}, Recall@10: 0.08785832544938506\n",
            "Параметры: {'factors': 200, 'iterations': 15, 'regularization': 0.01}, Recall@10: 0.08837866603595079\n",
            "Параметры: {'factors': 200, 'iterations': 15, 'regularization': 0.02}, Recall@10: 0.08820127719962156\n",
            "Параметры: {'factors': 200, 'iterations': 15, 'regularization': 0.05}, Recall@10: 0.08732103437401452\n",
            "Параметры: {'factors': 200, 'iterations': 15, 'regularization': 0.1}, Recall@10: 0.08669820245979186\n",
            "Параметры: {'factors': 200, 'iterations': 20, 'regularization': 0.01}, Recall@10: 0.08666942604856512\n",
            "Параметры: {'factors': 200, 'iterations': 20, 'regularization': 0.02}, Recall@10: 0.08705298013245033\n",
            "Параметры: {'factors': 200, 'iterations': 20, 'regularization': 0.05}, Recall@10: 0.0868314411857458\n",
            "Параметры: {'factors': 200, 'iterations': 20, 'regularization': 0.1}, Recall@10: 0.08681527909176914\n",
            "Параметры: {'factors': 300, 'iterations': 10, 'regularization': 0.01}, Recall@10: 0.08186731315042572\n",
            "Параметры: {'factors': 300, 'iterations': 10, 'regularization': 0.02}, Recall@10: 0.08179990539262062\n",
            "Параметры: {'factors': 300, 'iterations': 10, 'regularization': 0.05}, Recall@10: 0.08101387574897509\n",
            "Параметры: {'factors': 300, 'iterations': 10, 'regularization': 0.1}, Recall@10: 0.08076001261431724\n",
            "Параметры: {'factors': 300, 'iterations': 15, 'regularization': 0.01}, Recall@10: 0.08122398297067171\n",
            "Параметры: {'factors': 300, 'iterations': 15, 'regularization': 0.02}, Recall@10: 0.08057079785556606\n",
            "Параметры: {'factors': 300, 'iterations': 15, 'regularization': 0.05}, Recall@10: 0.07996885840428886\n",
            "Параметры: {'factors': 300, 'iterations': 15, 'regularization': 0.1}, Recall@10: 0.07998699148533586\n",
            "Параметры: {'factors': 300, 'iterations': 20, 'regularization': 0.01}, Recall@10: 0.08069102806685588\n",
            "Параметры: {'factors': 300, 'iterations': 20, 'regularization': 0.02}, Recall@10: 0.08076356039104383\n",
            "Параметры: {'factors': 300, 'iterations': 20, 'regularization': 0.05}, Recall@10: 0.08068866288237149\n",
            "Параметры: {'factors': 300, 'iterations': 20, 'regularization': 0.1}, Recall@10: 0.08034965310627562\n",
            "Лучшие параметры: {'factors': 100, 'iterations': 15, 'regularization': 0.1}, с Recall@10: 0.09118219804478082\n"
          ]
        }
      ],
      "source": [
        "# Подбор гиперпараметров\n",
        "param_grid = {\n",
        "    'factors': [20, 50, 100, 150, 200, 300],\n",
        "    'regularization': [0.01, 0.02, 0.05, 0.1],\n",
        "    'iterations': [10, 15, 20]\n",
        "}\n",
        "\n",
        "best_score = -1\n",
        "best_params = None\n",
        "\n",
        "\n",
        "# Проходим по сетке параметров\n",
        "for params in ParameterGrid(param_grid):\n",
        "    model = AlternatingLeastSquares(factors=params['factors'], regularization=params['regularization'], iterations=params['iterations'], num_threads=8, random_state=42)\n",
        "    model.fit(train_matrix, show_progress=False)\n",
        "\n",
        "    score = recall_at_k(model, train_matrix, val_matrix, k=10)\n",
        "\n",
        "    print(f\"Параметры: {params}, Recall@10: {score}\")\n",
        "\n",
        "    if score > best_score:\n",
        "        best_score = score\n",
        "        best_params = params\n",
        "\n",
        "print(f\"Лучшие параметры: {best_params}, с Recall@10: {best_score}\")"
      ]
    },
    {
      "cell_type": "markdown",
      "metadata": {
        "id": "4ujePRD5rO6v"
      },
      "source": [
        "### Лучшие параметры и обучение на них\n"
      ]
    },
    {
      "cell_type": "code",
      "execution_count": null,
      "metadata": {
        "colab": {
          "base_uri": "https://localhost:8080/"
        },
        "execution": {
          "iopub.execute_input": "2025-10-24T21:55:47.559575Z",
          "iopub.status.busy": "2025-10-24T21:55:47.558288Z",
          "iopub.status.idle": "2025-10-24T21:55:54.007892Z",
          "shell.execute_reply": "2025-10-24T21:55:54.006853Z",
          "shell.execute_reply.started": "2025-10-24T21:55:47.559519Z"
        },
        "id": "bVj3CSsSrO6v",
        "outputId": "6276d748-8280-4a3d-963e-e9d41391c5c6",
        "tags": []
      },
      "outputs": [
        {
          "name": "stdout",
          "output_type": "stream",
          "text": [
            "Recall@10 на тестовых данных: 0.0521012693156733\n"
          ]
        }
      ],
      "source": [
        "best_params = {'factors': 50, 'iterations': 20, 'regularization': 0.02}\n",
        "final_model = AlternatingLeastSquares(factors=best_params['factors'], regularization=best_params['regularization'], iterations=best_params['iterations'], num_threads=8, random_state=42)\n",
        "final_model.fit(train_matrix_glob, show_progress=False)\n",
        "test_recall = recall_at_k(final_model, train_matrix_glob, test_matrix_glob, k=10)\n",
        "print(f\"Recall@10 на тестовых данных: {test_recall}\")"
      ]
    },
    {
      "cell_type": "code",
      "execution_count": null,
      "metadata": {
        "execution": {
          "iopub.execute_input": "2025-10-24T21:55:54.010737Z",
          "iopub.status.busy": "2025-10-24T21:55:54.009421Z",
          "iopub.status.idle": "2025-10-24T21:55:54.026725Z",
          "shell.execute_reply": "2025-10-24T21:55:54.025730Z",
          "shell.execute_reply.started": "2025-10-24T21:55:54.010682Z"
        },
        "id": "0salJNe9rO6w",
        "tags": []
      },
      "outputs": [],
      "source": [
        "#получения K рекомендаций с негативной выборкой\n",
        "def get_top_k_with_negative_sampling(final_model, not_train_data_glob, not_train_matrix_glob, train_matrix, user_id, k=10, negative_size=100):\n",
        "    user_rated_items_in_val_test = set(not_train_data_glob[not_train_data_glob['user_id_idx'] == user_id]['item_id_idx'])\n",
        "    item_ids_val_test, scores_val_test = final_model.recommend(user_id, not_train_matrix_glob[user_id], N=len(user_rated_items_in_val_test), filter_already_liked_items=False)\n",
        "    all_items = set(range(n_items))\n",
        "    unrated_items = list(all_items - user_rated_items_in_val_test)\n",
        "    item_ids, scores = final_model.recommend(user_id, train_matrix[user_id], N=k, items=unrated_items, filter_already_liked_items=True)\n",
        "    unrated_items_again = list(all_items - user_rated_items_in_val_test - set(item_ids))\n",
        "    rng = np.random.RandomState(42)\n",
        "    sampled_unrated_items = rng.choice(unrated_items_again, size=negative_size * 2, replace=False)\n",
        "    item_ids_neg, scores_neg = final_model.recommend(user_id, train_matrix[user_id], N=negative_size, items=sampled_unrated_items, filter_already_liked_items=True, recalculate_user=True)\n",
        "    negative_scores_sorted = sorted(zip(item_ids_neg, scores_neg), key=lambda x: x[1], reverse=False)\n",
        "    item_ids_neg = [i[0] for i in negative_scores_sorted[:negative_size]]\n",
        "    scores_neg = [i[1] for i in negative_scores_sorted[:negative_size]]\n",
        "    items_ids_all = np.append( np.append(item_ids, item_ids_val_test), item_ids_neg )\n",
        "    scores_all = np.append( np.append(scores, scores_val_test), scores_neg )\n",
        "\n",
        "    return items_ids_all, scores_all"
      ]
    },
    {
      "cell_type": "code",
      "execution_count": null,
      "metadata": {
        "colab": {
          "base_uri": "https://localhost:8080/"
        },
        "execution": {
          "iopub.execute_input": "2025-10-24T21:55:54.034843Z",
          "iopub.status.busy": "2025-10-24T21:55:54.033839Z",
          "iopub.status.idle": "2025-10-24T21:55:54.054992Z",
          "shell.execute_reply": "2025-10-24T21:55:54.053873Z",
          "shell.execute_reply.started": "2025-10-24T21:55:54.034796Z"
        },
        "id": "FZGYhJaCrO6w",
        "outputId": "1d325440-59b5-4b06-e1ad-1ba159500b38",
        "tags": []
      },
      "outputs": [
        {
          "data": {
            "text/plain": [
              "(6040, 6040)"
            ]
          },
          "execution_count": 28,
          "metadata": {},
          "output_type": "execute_result"
        }
      ],
      "source": [
        "users_train_glob = list(train_data_glob['user_id_idx'].unique())\n",
        "len(users_train_glob), n_users_glob"
      ]
    },
    {
      "cell_type": "code",
      "execution_count": null,
      "metadata": {
        "colab": {
          "base_uri": "https://localhost:8080/"
        },
        "execution": {
          "iopub.execute_input": "2025-10-24T21:55:54.057708Z",
          "iopub.status.busy": "2025-10-24T21:55:54.056508Z",
          "iopub.status.idle": "2025-10-24T21:56:41.986881Z",
          "shell.execute_reply": "2025-10-24T21:56:41.985744Z",
          "shell.execute_reply.started": "2025-10-24T21:55:54.057677Z"
        },
        "id": "vR6i53EgrO6x",
        "outputId": "71da16eb-4a14-4b74-d8b2-298a11b91401",
        "tags": []
      },
      "outputs": [
        {
          "name": "stderr",
          "output_type": "stream",
          "text": [
            "100%|██████████| 6040/6040 [00:44<00:00, 135.07it/s]\n"
          ]
        },
        {
          "name": "stdout",
          "output_type": "stream",
          "text": [
            "   user_id_idx  item_id_idx  score_als\n",
            "0            0          445   1.172245\n",
            "1            0          294   1.157861\n",
            "2            0          483   1.113745\n",
            "3            0          488   1.065042\n",
            "4            0         1046   0.996226\n"
          ]
        }
      ],
      "source": [
        "data_i = []\n",
        "\n",
        "for i in tqdm(range(n_users)):\n",
        "    user_id = users_train_glob[i]\n",
        "    try:\n",
        "        items_ids_all, scores_all = get_top_k_with_negative_sampling(final_model, not_train_data_glob, not_train_matrix_glob, train_matrix_glob, user_id, k=10, negative_size=100)\n",
        "    except:\n",
        "        print(user_id)\n",
        "\n",
        "    for item_id, score in zip(items_ids_all, scores_all):\n",
        "        data_i.append([user_id, item_id, score])\n",
        "\n",
        "\n",
        "als_df = pd.DataFrame(data_i, columns=['user_id_idx', 'item_id_idx', 'score_als'])\n",
        "print(als_df.head())"
      ]
    },
    {
      "cell_type": "code",
      "execution_count": null,
      "metadata": {
        "execution": {
          "iopub.execute_input": "2025-10-24T21:56:41.989731Z",
          "iopub.status.busy": "2025-10-24T21:56:41.988339Z",
          "iopub.status.idle": "2025-10-24T21:56:42.446331Z",
          "shell.execute_reply": "2025-10-24T21:56:42.445027Z",
          "shell.execute_reply.started": "2025-10-24T21:56:41.989679Z"
        },
        "id": "TipdRz7orO6x",
        "tags": []
      },
      "outputs": [],
      "source": [
        "item_ids_correct = dict(zip(train_data_glob['item_id_idx'], train_data_glob['item_id']))\n",
        "user_ids_correct = dict(zip(train_data_glob['user_id_idx'], train_data_glob['user_id']))\n",
        "\n",
        "als_df['item_id'] = als_df['item_id_idx'].map(item_ids_correct)\n",
        "als_df['user_id'] = als_df['user_id_idx'].map(user_ids_correct)\n",
        "\n",
        "als_df.drop(['user_id_idx', 'item_id_idx'], axis=1, inplace=True)\n",
        "\n",
        "als_df = als_df[['user_id', 'item_id', 'score_als']]"
      ]
    },
    {
      "cell_type": "markdown",
      "metadata": {
        "id": "FdUcb6pMrO6y"
      },
      "source": [
        "## Item Similarity"
      ]
    },
    {
      "cell_type": "code",
      "execution_count": null,
      "metadata": {
        "execution": {
          "iopub.execute_input": "2025-10-24T21:56:42.450038Z",
          "iopub.status.busy": "2025-10-24T21:56:42.447953Z",
          "iopub.status.idle": "2025-10-24T21:56:42.497312Z",
          "shell.execute_reply": "2025-10-24T21:56:42.496162Z",
          "shell.execute_reply.started": "2025-10-24T21:56:42.449984Z"
        },
        "id": "ic3lJQITrO6y",
        "tags": []
      },
      "outputs": [],
      "source": [
        "import numpy as np\n",
        "import pandas as pd\n",
        "from sklearn.metrics.pairwise import cosine_similarity\n",
        "from tqdm.auto import tqdm\n",
        "\n",
        "# ----------  фичи (починенные) ----------\n",
        "\n",
        "def calculate_item_similarity_norm(events: pd.DataFrame) -> pd.DataFrame:\n",
        "    \"\"\"\n",
        "    Item-to-Item по косинусу, с вычитанием средних по пользователю.\n",
        "    Возвращает: DataFrame ['user_id','item_id','score'] (чем выше — тем лучше).\n",
        "    \"\"\"\n",
        "    need = {'user_id', 'item_id', 'rating'}\n",
        "    missing = need - set(events.columns)\n",
        "    if missing:\n",
        "        raise ValueError(f\"Missing columns in events: {missing}\")\n",
        "\n",
        "    df = events[['user_id','item_id','rating']].copy()\n",
        "\n",
        "    # Нормализация рейтинга относительно среднего пользователя\n",
        "    user_mean = df.groupby('user_id')['rating'].transform('mean')\n",
        "    df['rating_user_normalized'] = df['rating'] - user_mean\n",
        "    df['rating_user_normalized_round'] = df['rating_user_normalized'].round(0)\n",
        "\n",
        "    # Пользователь-айтем матрица по нормализованным рейтингам\n",
        "    user_item_matrix = (\n",
        "        df.groupby(['user_id','item_id'])['rating_user_normalized']\n",
        "          .mean()\n",
        "          .unstack(fill_value=0)\n",
        "    )\n",
        "\n",
        "    # Косинусное сходство между айтемами\n",
        "    sim = cosine_similarity(user_item_matrix.T)\n",
        "    sim = pd.DataFrame(sim, index=user_item_matrix.columns, columns=user_item_matrix.columns)\n",
        "\n",
        "    # Скор для user x item как произведение матрицы профиля на матрицу сходства айтемов\n",
        "    scores = user_item_matrix.dot(sim)\n",
        "\n",
        "    # Обнуляем (NaN) уже виденные пользователем айтемы\n",
        "    scores_values = scores.values.copy()\n",
        "    seen_mask = user_item_matrix.values.nonzero()\n",
        "    scores_values[seen_mask] = np.nan\n",
        "\n",
        "    flat = (\n",
        "        pd.DataFrame(scores_values, index=scores.index, columns=scores.columns)\n",
        "          .stack()\n",
        "          .reset_index()\n",
        "    )\n",
        "    flat.columns = ['user_id', 'item_id', 'score']\n",
        "    flat = flat.sort_values(['user_id','score'], ascending=[True, False], kind='mergesort')\n",
        "    return flat\n",
        "\n",
        "\n",
        "def calculate_item_similarity_last_n(events: pd.DataFrame, depth: int) -> pd.DataFrame:\n",
        "    \"\"\"\n",
        "    Для каждого пользователя берём d-й с конца просмотренный item и рекомендуем похожие айтемы по косинусу.\n",
        "    Возвращает: ['user_id','item_id','score'] с min-max нормировкой по всему столбцу.\n",
        "    \"\"\"\n",
        "    need = {'user_id','item_id','rating','timestamp'}\n",
        "    missing = need - set(events.columns)\n",
        "    if missing:\n",
        "        raise ValueError(f\"Missing columns in events: {missing}\")\n",
        "\n",
        "    df = events[['user_id','item_id','rating','timestamp']].copy()\n",
        "\n",
        "    # Пивот под косинус (сырой рейтинг; 0 как отсутствие взаимодействия)\n",
        "    user_item = df.pivot_table(index='user_id', columns='item_id', values='rating', aggfunc='mean', fill_value=0)\n",
        "\n",
        "    sim = cosine_similarity(user_item.T)\n",
        "    sim_df = pd.DataFrame(sim, index=user_item.columns, columns=user_item.columns)\n",
        "\n",
        "    # d-й с конца элемент в каждой группе (с ресетом индекса!)\n",
        "    last_d = (\n",
        "        df.sort_values(['user_id','timestamp'], kind='mergesort')\n",
        "          .groupby('user_id', sort=False)\n",
        "          .nth(-depth)\n",
        "          .reset_index()[['user_id','item_id']]\n",
        "    )\n",
        "\n",
        "    recs = []\n",
        "    for user_id, last_item in tqdm(last_d.itertuples(index=False), total=len(last_d), disable=False):\n",
        "        if last_item in sim_df.columns:\n",
        "            # Берём только положительные сходства\n",
        "            vec = sim_df[last_item]\n",
        "            vec = vec[vec > 0]\n",
        "            if not vec.empty:\n",
        "                # Перебор похожих айтемов\n",
        "                for iid, s in vec.items():\n",
        "                    recs.append({'user_id': user_id, 'item_id': iid, 'score': float(s)})\n",
        "\n",
        "    if not recs:\n",
        "        return pd.DataFrame(columns=['user_id','item_id','score'])\n",
        "\n",
        "    recs = pd.DataFrame(recs)\n",
        "\n",
        "    # Глобальная min-max нормировка (избегаем деления на ноль)\n",
        "    min_s, max_s = recs['score'].min(), recs['score'].max()\n",
        "    if pd.isna(min_s) or pd.isna(max_s) or max_s == min_s:\n",
        "        recs['score'] = 0.0\n",
        "    else:\n",
        "        recs['score'] = (recs['score'] - min_s) / (max_s - min_s)\n",
        "    return recs\n",
        "\n",
        "\n",
        "# ---------- Новые фичи (починенные) ----------\n",
        "\n",
        "def get_top_items(events: pd.DataFrame) -> pd.DataFrame:\n",
        "    if 'item_id' not in events.columns:\n",
        "        raise ValueError(\"Missing 'item_id' in events\")\n",
        "    counts = events['item_id'].value_counts().rename_axis('item_id').reset_index(name='count')\n",
        "    return counts\n",
        "\n",
        "\n",
        "def match_users(events: pd.DataFrame) -> pd.DataFrame:\n",
        "    \"\"\"\n",
        "    Возвращает ['user_id','item_id','count'].\n",
        "    \"\"\"\n",
        "    top_items = get_top_items(events)\n",
        "    user_ids = pd.DataFrame({'user_id': events['user_id'].unique()})\n",
        "    user_ids['key'] = 1\n",
        "    top_items = top_items.copy()\n",
        "    top_items['key'] = 1\n",
        "    out = user_ids.merge(top_items, on='key', how='inner').drop(columns='key')\n",
        "    return out  # ['user_id','item_id','count']\n",
        "\n",
        "\n",
        "def get_user_top_genre(events: pd.DataFrame, item_features: pd.DataFrame) -> pd.DataFrame:\n",
        "    \"\"\"\n",
        "    item_features: item_id + one-hot жанры в столбцах.\n",
        "    \"\"\"\n",
        "    if 'item_id' not in item_features.columns:\n",
        "        raise ValueError(\"item_features must contain 'item_id'\")\n",
        "\n",
        "    # Мерджим фичи к событиям\n",
        "    merged = events.merge(item_features, on='item_id', how='left')\n",
        "\n",
        "    # Оставим только жанровые столбцы (исключаем явные служебные/числовые)\n",
        "    drop_cols = {'item_id', 'rating', 'timestamp', 'item_id_idx', 'user_id_idx'}\n",
        "    genre_cols = [c for c in merged.columns if c not in drop_cols and c not in {'user_id'}]\n",
        "\n",
        "    # На случай, если жанров нет\n",
        "    if not genre_cols:\n",
        "        return pd.DataFrame(columns=['user_id','top_genre'])\n",
        "\n",
        "    counts = merged.groupby('user_id')[genre_cols].sum(numeric_only=True)\n",
        "    top = counts.idxmax(axis=1).reset_index()\n",
        "    top.columns = ['user_id', 'top_genre']\n",
        "    return top\n",
        "\n",
        "\n",
        "def get_top_items_by_genre(events: pd.DataFrame, item_features: pd.DataFrame) -> pd.DataFrame:\n",
        "    \"\"\"\n",
        "    Для каждого жанра — топ айтемов по частоте в событиях.\n",
        "    Возвращает ['genre','item_id','count'].\n",
        "    \"\"\"\n",
        "    if 'item_id' not in item_features.columns:\n",
        "        raise ValueError(\"item_features must contain 'item_id'\")\n",
        "\n",
        "    merged = events.merge(item_features, on='item_id', how='left')\n",
        "\n",
        "    # Определяем жанровые столбцы (кроме item_id)\n",
        "    genre_cols = [c for c in item_features.columns if c != 'item_id']\n",
        "    out = []\n",
        "\n",
        "    for g in genre_cols:\n",
        "        if g not in merged.columns:\n",
        "            continue\n",
        "        sub = merged[merged[g] == 1]\n",
        "        if sub.empty:\n",
        "            continue\n",
        "        cnt = sub['item_id'].value_counts().rename_axis('item_id').reset_index(name='count')\n",
        "        cnt['genre'] = g\n",
        "        out.append(cnt[['genre','item_id','count']])\n",
        "\n",
        "    if not out:\n",
        "        return pd.DataFrame(columns=['genre','item_id','count'])\n",
        "\n",
        "    return pd.concat(out, ignore_index=True)\n",
        "\n",
        "\n",
        "def match_user_genre_top_items(events: pd.DataFrame, item_features: pd.DataFrame) -> pd.DataFrame:\n",
        "    \"\"\"\n",
        "    Для каждого пользователя берём его топ-жанр и к нему — топ айтемы жанра.\n",
        "    Возвращает ['user_id','item_id','count'] с нормировкой count в [0,1].\n",
        "    \"\"\"\n",
        "    user_top = get_user_top_genre(events, item_features)\n",
        "    top_by_genre = get_top_items_by_genre(events, item_features)\n",
        "\n",
        "    if user_top.empty or top_by_genre.empty:\n",
        "        return pd.DataFrame(columns=['user_id','item_id','count'])\n",
        "\n",
        "    recs = user_top.merge(top_by_genre, left_on='top_genre', right_on='genre', how='inner')\n",
        "    recs = recs.drop(columns=['genre','top_genre'])\n",
        "\n",
        "    if recs['count'].max() > 0:\n",
        "        recs['count'] = recs['count'] / recs['count'].max()\n",
        "    else:\n",
        "        recs['count'] = 0.0\n",
        "\n",
        "    return recs  # ['user_id','item_id','count']\n",
        "\n",
        "\n",
        "# ---------- Объединение (починенное) ----------\n",
        "\n",
        "def unite_i2i_stupid_top_popular(events: pd.DataFrame,\n",
        "                                 item_features: pd.DataFrame,\n",
        "                                 test_data_glob: pd.DataFrame,\n",
        "                                 top_n: int,\n",
        "                                 max_depth: int) -> pd.DataFrame:\n",
        "    \"\"\"\n",
        "    Склеивает:\n",
        "    - Item2Item-норм (score_item2item_NL)\n",
        "    - Item2Item по последним d (score_last_d_NL, d=1..max_depth)\n",
        "    - Топ-поп (score_top_pop_NL)\n",
        "    - Жанровый топ (score_genre_top_items_NL)\n",
        "    Потом делает маскирование: по каждому скорам оставляем топ-N на пользователя, + тестовые пары, + случайные.\n",
        "    \"\"\"\n",
        "    # 1) i2i по нормализованным рейтингам\n",
        "    user_item_scores_norm = calculate_item_similarity_norm(events)\n",
        "    user_item_scores_norm = user_item_scores_norm.rename(columns={'score':'score_item2item_NL'})\n",
        "\n",
        "    # 2) i2i относительно последних d айтемов\n",
        "    frames = []\n",
        "    for d in range(1, max_depth + 1):\n",
        "        tmp = calculate_item_similarity_last_n(events, d).rename(columns={'score': f'score_last_{d}_NL'})\n",
        "        frames.append(tmp)\n",
        "    # outer-merge всех d-скоров\n",
        "    if frames:\n",
        "        user_item_scores = frames[0]\n",
        "        for k in range(1, len(frames)):\n",
        "            user_item_scores = user_item_scores.merge(frames[k], on=['user_id','item_id'], how='outer')\n",
        "    else:\n",
        "        user_item_scores = pd.DataFrame(columns=['user_id','item_id'])\n",
        "\n",
        "    # 3) топ-популярные айтемы для всех пользователей\n",
        "    top_pop_score = match_users(events).rename(columns={'count':'score_top_pop_NL'})\n",
        "\n",
        "    # 4) жанровый топ\n",
        "    user_genre_top_items = match_user_genre_top_items(events, item_features).rename(columns={'count':'score_genre_top_items_NL'})\n",
        "\n",
        "    # 5) сводная таблица\n",
        "    final_scores = (\n",
        "        user_item_scores_norm\n",
        "        .merge(user_item_scores, on=['user_id','item_id'], how='outer')\n",
        "        .merge(top_pop_score, on=['user_id','item_id'], how='outer')\n",
        "        .merge(user_genre_top_items, on=['user_id','item_id'], how='outer')\n",
        "    )\n",
        "\n",
        "    # Список колонок-скоров\n",
        "    score_cols = [c for c in final_scores.columns if c not in {'user_id','item_id'}]\n",
        "\n",
        "    # Приводим к числам\n",
        "    for col in score_cols:\n",
        "        final_scores[col] = pd.to_numeric(final_scores[col], errors='coerce')\n",
        "\n",
        "    # Индекс пар для удобства выборок\n",
        "    final_scores = final_scores.set_index(['user_id','item_id']).sort_index()\n",
        "\n",
        "    # Тестовые пары (как MultiIndex)\n",
        "    test_idx = pd.MultiIndex.from_frame(\n",
        "        test_data_glob[['user_id','item_id']].drop_duplicates()\n",
        "    )\n",
        "    test_idx = test_idx.intersection(final_scores.index)\n",
        "\n",
        "    rng = np.random.RandomState(42)\n",
        "\n",
        "    # По каждому скору — оставляем топ-N на пользователя + тестовые + случайные из остатков\n",
        "    for col in tqdm(score_cols):\n",
        "        col_series = final_scores[col]\n",
        "\n",
        "        # нули для NaN, чтобы nlargest работал, но помним, что потом мы всё равно маскируем\n",
        "        work = col_series.fillna(-np.inf)\n",
        "\n",
        "        # Топ-N на пользователя\n",
        "        # groupby по первому уровню (user_id), берём nlargest по значению\n",
        "        tops = (\n",
        "            work.groupby(level=0, group_keys=False)\n",
        "                .apply(lambda s: s.nlargest(top_n))\n",
        "                .index\n",
        "        )\n",
        "\n",
        "        # Остаток — то, что не попало в tops и не в test_idx\n",
        "        remaining = final_scores.index.difference(tops.union(test_idx))\n",
        "\n",
        "        # Сколько случайных взять: пусть будет до 10×(|tops|+|test|)\n",
        "        want = min(len(remaining), 10 * (len(tops) + len(test_idx)))\n",
        "        random_idx = pd.Index(remaining)\n",
        "        if want > 0 and len(random_idx) > 0:\n",
        "            random_idx = random_idx[rng.choice(len(random_idx), size=want, replace=False)]\n",
        "        else:\n",
        "            random_idx = pd.Index([])\n",
        "\n",
        "        keep_idx = tops.union(test_idx).union(random_idx)\n",
        "\n",
        "        # Маскируем всё прочее в этом столбце\n",
        "        mask_drop = ~final_scores.index.isin(keep_idx)\n",
        "        final_scores.loc[mask_drop, col] = np.nan\n",
        "\n",
        "    # Убираем строки, где ВСЕ скора NaN\n",
        "    final_scores = final_scores.dropna(how='all', subset=score_cols).reset_index()\n",
        "\n",
        "    return final_scores\n"
      ]
    },
    {
      "cell_type": "code",
      "execution_count": null,
      "metadata": {
        "colab": {
          "base_uri": "https://localhost:8080/"
        },
        "execution": {
          "iopub.execute_input": "2025-10-24T21:56:42.499651Z",
          "iopub.status.busy": "2025-10-24T21:56:42.498460Z",
          "iopub.status.idle": "2025-10-24T21:56:46.035967Z",
          "shell.execute_reply": "2025-10-24T21:56:46.034653Z",
          "shell.execute_reply.started": "2025-10-24T21:56:42.499602Z"
        },
        "id": "02jYZjoGx54Z",
        "outputId": "e4467f5d-e98a-4f45-cc1a-87627009cb7a",
        "tags": []
      },
      "outputs": [
        {
          "name": "stdout",
          "output_type": "stream",
          "text": [
            "Defaulting to user installation because normal site-packages is not writeable\n",
            "Requirement already satisfied: numpy==1.26.4 in /home/jupyter/.local/lib/python3.10/site-packages (1.26.4)\n",
            "\n",
            "\u001b[1m[\u001b[0m\u001b[34;49mnotice\u001b[0m\u001b[1;39;49m]\u001b[0m\u001b[39;49m A new release of pip is available: \u001b[0m\u001b[31;49m23.0.1\u001b[0m\u001b[39;49m -> \u001b[0m\u001b[32;49m25.2\u001b[0m\n",
            "\u001b[1m[\u001b[0m\u001b[34;49mnotice\u001b[0m\u001b[1;39;49m]\u001b[0m\u001b[39;49m To update, run: \u001b[0m\u001b[32;49mpython3 -m pip install --upgrade pip\u001b[0m\n"
          ]
        }
      ],
      "source": [
        "    pip install numpy==1.26.4"
      ]
    },
    {
      "cell_type": "code",
      "execution_count": null,
      "metadata": {
        "colab": {
          "base_uri": "https://localhost:8080/",
          "height": 394
        },
        "execution": {
          "iopub.execute_input": "2025-10-24T21:56:46.039364Z",
          "iopub.status.busy": "2025-10-24T21:56:46.037962Z",
          "iopub.status.idle": "2025-10-24T22:58:10.049072Z",
          "shell.execute_reply": "2025-10-24T22:58:10.047473Z",
          "shell.execute_reply.started": "2025-10-24T21:56:46.039317Z"
        },
        "id": "9r2vpHesrO6y",
        "outputId": "1497111b-01ea-4d78-fac0-ff295a5922dd",
        "tags": []
      },
      "outputs": [
        {
          "name": "stderr",
          "output_type": "stream",
          "text": [
            "100%|██████████| 6040/6040 [00:16<00:00, 364.03it/s]\n",
            "100%|██████████| 6040/6040 [00:16<00:00, 375.26it/s]\n",
            "100%|██████████| 6040/6040 [00:16<00:00, 366.43it/s]\n",
            "100%|██████████| 6040/6040 [00:15<00:00, 379.54it/s]\n",
            "100%|██████████| 6040/6040 [00:15<00:00, 379.34it/s]\n",
            " 12%|█▎        | 1/8 [06:58<48:52, 418.90s/it]IOStream.flush timed out\n",
            " 38%|███▊      | 3/8 [20:20<33:44, 404.89s/it]IOStream.flush timed out\n",
            " 75%|███████▌  | 6/8 [41:06<13:46, 413.17s/it]IOStream.flush timed out\n",
            "100%|██████████| 8/8 [55:08<00:00, 413.57s/it]\n"
          ]
        },
        {
          "data": {
            "text/html": [
              "<div>\n",
              "<style scoped>\n",
              "    .dataframe tbody tr th:only-of-type {\n",
              "        vertical-align: middle;\n",
              "    }\n",
              "\n",
              "    .dataframe tbody tr th {\n",
              "        vertical-align: top;\n",
              "    }\n",
              "\n",
              "    .dataframe thead th {\n",
              "        text-align: right;\n",
              "    }\n",
              "</style>\n",
              "<table border=\"1\" class=\"dataframe\">\n",
              "  <thead>\n",
              "    <tr style=\"text-align: right;\">\n",
              "      <th></th>\n",
              "      <th>user_id</th>\n",
              "      <th>item_id</th>\n",
              "      <th>score_item2item_NL</th>\n",
              "      <th>score_last_1_NL</th>\n",
              "      <th>score_last_2_NL</th>\n",
              "      <th>score_last_3_NL</th>\n",
              "      <th>score_last_4_NL</th>\n",
              "      <th>score_last_5_NL</th>\n",
              "      <th>score_top_pop_NL</th>\n",
              "      <th>score_genre_top_items_NL</th>\n",
              "    </tr>\n",
              "  </thead>\n",
              "  <tbody>\n",
              "    <tr>\n",
              "      <th>0</th>\n",
              "      <td>0</td>\n",
              "      <td>13</td>\n",
              "      <td>NaN</td>\n",
              "      <td>NaN</td>\n",
              "      <td>NaN</td>\n",
              "      <td>NaN</td>\n",
              "      <td>NaN</td>\n",
              "      <td>0.067616</td>\n",
              "      <td>NaN</td>\n",
              "      <td>NaN</td>\n",
              "    </tr>\n",
              "    <tr>\n",
              "      <th>1</th>\n",
              "      <td>0</td>\n",
              "      <td>15</td>\n",
              "      <td>NaN</td>\n",
              "      <td>0.227770</td>\n",
              "      <td>NaN</td>\n",
              "      <td>NaN</td>\n",
              "      <td>NaN</td>\n",
              "      <td>NaN</td>\n",
              "      <td>NaN</td>\n",
              "      <td>NaN</td>\n",
              "    </tr>\n",
              "    <tr>\n",
              "      <th>2</th>\n",
              "      <td>0</td>\n",
              "      <td>16</td>\n",
              "      <td>NaN</td>\n",
              "      <td>0.464879</td>\n",
              "      <td>NaN</td>\n",
              "      <td>NaN</td>\n",
              "      <td>NaN</td>\n",
              "      <td>NaN</td>\n",
              "      <td>NaN</td>\n",
              "      <td>NaN</td>\n",
              "    </tr>\n",
              "    <tr>\n",
              "      <th>3</th>\n",
              "      <td>0</td>\n",
              "      <td>19</td>\n",
              "      <td>NaN</td>\n",
              "      <td>0.122957</td>\n",
              "      <td>NaN</td>\n",
              "      <td>NaN</td>\n",
              "      <td>NaN</td>\n",
              "      <td>NaN</td>\n",
              "      <td>NaN</td>\n",
              "      <td>NaN</td>\n",
              "    </tr>\n",
              "    <tr>\n",
              "      <th>4</th>\n",
              "      <td>0</td>\n",
              "      <td>23</td>\n",
              "      <td>NaN</td>\n",
              "      <td>NaN</td>\n",
              "      <td>NaN</td>\n",
              "      <td>NaN</td>\n",
              "      <td>NaN</td>\n",
              "      <td>NaN</td>\n",
              "      <td>108.0</td>\n",
              "      <td>NaN</td>\n",
              "    </tr>\n",
              "  </tbody>\n",
              "</table>\n",
              "</div>"
            ],
            "text/plain": [
              "   user_id  item_id  score_item2item_NL  score_last_1_NL  score_last_2_NL  \\\n",
              "0        0       13                 NaN              NaN              NaN   \n",
              "1        0       15                 NaN         0.227770              NaN   \n",
              "2        0       16                 NaN         0.464879              NaN   \n",
              "3        0       19                 NaN         0.122957              NaN   \n",
              "4        0       23                 NaN              NaN              NaN   \n",
              "\n",
              "   score_last_3_NL  score_last_4_NL  score_last_5_NL  score_top_pop_NL  \\\n",
              "0              NaN              NaN         0.067616               NaN   \n",
              "1              NaN              NaN              NaN               NaN   \n",
              "2              NaN              NaN              NaN               NaN   \n",
              "3              NaN              NaN              NaN               NaN   \n",
              "4              NaN              NaN              NaN             108.0   \n",
              "\n",
              "   score_genre_top_items_NL  \n",
              "0                       NaN  \n",
              "1                       NaN  \n",
              "2                       NaN  \n",
              "3                       NaN  \n",
              "4                       NaN  "
            ]
          },
          "execution_count": 33,
          "metadata": {},
          "output_type": "execute_result"
        }
      ],
      "source": [
        "# Результат от ItemToItem\n",
        "df_scores_i2i = unite_i2i_stupid_top_popular(train_data_glob, item_features, not_train_data_glob, 10, 5)\n",
        "\n",
        "df_scores_i2i.head()"
      ]
    },
    {
      "cell_type": "markdown",
      "metadata": {
        "id": "dfR2WJcArO6z"
      },
      "source": [
        "## TopPop"
      ]
    },
    {
      "cell_type": "code",
      "execution_count": null,
      "metadata": {
        "execution": {
          "iopub.execute_input": "2025-10-24T22:58:10.054859Z",
          "iopub.status.busy": "2025-10-24T22:58:10.053770Z",
          "iopub.status.idle": "2025-10-24T22:58:10.089908Z",
          "shell.execute_reply": "2025-10-24T22:58:10.088533Z",
          "shell.execute_reply.started": "2025-10-24T22:58:10.054825Z"
        },
        "id": "1fMthJ_WrO6z",
        "tags": []
      },
      "outputs": [],
      "source": [
        "def recommend_item_top_popular(events, test_data, user_id, n_negative=10, top_n=10):\n",
        "    item_popularity = events.groupby('item_id').size().reset_index(name='interaction_count')\n",
        "    item_popularity = item_popularity.sort_values(by='interaction_count', ascending=False)\n",
        "    watched_items = events[events['user_id'] == user_id]['item_id'].unique()\n",
        "    item_popularity = item_popularity[~item_popularity['item_id'].isin(watched_items)]\n",
        "    train_top_n = item_popularity\n",
        "    train_top_n['user_id'] = user_id\n",
        "    train_top_n = train_top_n[['user_id', 'item_id', 'interaction_count']]\n",
        "    test_watched_items = test_data[test_data['user_id'] == user_id]['item_id'].unique()\n",
        "    positive_samples = test_data[test_data['user_id'] == user_id][['user_id', 'item_id']]\n",
        "    all_items = item_popularity['item_id'].unique()\n",
        "    test_unwatched_items = np.setdiff1d(all_items, test_watched_items)\n",
        "    rng = np.random.default_rng(42222)\n",
        "    negative_items = rng.choice(test_unwatched_items, size=min(n_negative * len(test_watched_items), len(test_unwatched_items)), replace=False)\n",
        "    negative_samples = pd.DataFrame({\n",
        "        'user_id': user_id,\n",
        "        'item_id': negative_items\n",
        "    })\n",
        "\n",
        "    combined_samples = pd.concat([positive_samples, negative_samples], ignore_index=True)\n",
        "    final_df = combined_samples.merge(train_top_n[['item_id', 'interaction_count']], on='item_id', how='left')\n",
        "\n",
        "\n",
        "    final_df = pd.concat([final_df, train_top_n.head(top_n)], ignore_index=True).drop_duplicates(subset=['item_id'])\n",
        "\n",
        "    return final_df[['user_id', 'item_id', 'interaction_count']]\n",
        "\n",
        "\n",
        "def recommend_item_top_popular_avg_rating(events, test_data, user_id, n_negative=10, top_n=10):\n",
        "    item_average_rating = events.groupby('item_id')['rating'].mean().reset_index(name='average_rating')\n",
        "    item_average_rating = item_average_rating.sort_values(by='average_rating', ascending=False)\n",
        "    watched_items = events[events['user_id'] == user_id]['item_id'].unique()\n",
        "    item_average_rating = item_average_rating[~item_average_rating['item_id'].isin(watched_items)]\n",
        "\n",
        "    train_top_n = item_average_rating\n",
        "    train_top_n['user_id'] = user_id\n",
        "    train_top_n = train_top_n[['user_id', 'item_id', 'average_rating']]\n",
        "\n",
        "\n",
        "    test_watched_items = test_data[test_data['user_id'] == user_id]['item_id'].unique()\n",
        "    positive_samples = test_data[test_data['user_id'] == user_id][['user_id', 'item_id']]\n",
        "    all_items = item_average_rating['item_id'].unique()\n",
        "    test_unwatched_items = np.setdiff1d(all_items, test_watched_items)\n",
        "    rng = np.random.default_rng(42)\n",
        "    negative_items = rng.choice(test_unwatched_items, size=min(n_negative * len(test_watched_items), len(test_unwatched_items)), replace=False)\n",
        "    negative_samples = pd.DataFrame({\n",
        "        'user_id': user_id,\n",
        "        'item_id': negative_items\n",
        "    })\n",
        "\n",
        "\n",
        "    combined_samples = pd.concat([positive_samples, negative_samples], ignore_index=True)\n",
        "    final_df = combined_samples.merge(train_top_n[['item_id', 'average_rating']], on='item_id', how='left')\n",
        "    final_df = pd.concat([final_df, train_top_n.head(top_n)], ignore_index=True).drop_duplicates(subset=['item_id'])\n",
        "\n",
        "    return final_df[['user_id', 'item_id', 'average_rating']]\n",
        "\n",
        "\n",
        "def recommend_top_popular_with_ratings(events, test_data, user_id, n_negative=10, top_n=10):\n",
        "    item_popularity = events.groupby('item_id').agg({\n",
        "        'user_id': 'count',\n",
        "        'rating': 'mean'\n",
        "    }).reset_index()\n",
        "    item_popularity['score'] = item_popularity['user_id'] * item_popularity['rating']\n",
        "    min_score = item_popularity['score'].min()\n",
        "    max_score = item_popularity['score'].max()\n",
        "    item_popularity['score'] = (item_popularity['score'] - min_score) / (max_score - min_score)\n",
        "    watched_items = events[events['user_id'] == user_id]['item_id'].unique()\n",
        "    item_popularity = item_popularity[~item_popularity['item_id'].isin(watched_items)]\n",
        "    train_top_n = item_popularity.sort_values(by='score', ascending=False)\n",
        "    train_top_n['user_id'] = user_id\n",
        "    train_top_n = train_top_n[['user_id', 'item_id', 'score']]\n",
        "\n",
        "\n",
        "    test_watched_items = test_data[test_data['user_id'] == user_id]['item_id'].unique()\n",
        "    positive_samples = test_data[test_data['user_id'] == user_id].copy()\n",
        "    positive_samples = positive_samples[['user_id', 'item_id']]\n",
        "\n",
        "    all_items = item_popularity['item_id'].unique()\n",
        "    test_unwatched_items = np.setdiff1d(all_items, test_watched_items)\n",
        "    rng = np.random.default_rng(42)\n",
        "    negative_items = rng.choice(test_unwatched_items, size=min(n_negative * len(test_watched_items), len(test_unwatched_items)), replace=False) # изменено\n",
        "    negative_samples = pd.DataFrame({\n",
        "        'user_id': user_id,\n",
        "        'item_id': negative_items\n",
        "    })\n",
        "\n",
        "    combined_samples = pd.concat([positive_samples, negative_samples], ignore_index=True)\n",
        "    final_df = combined_samples.merge(train_top_n[['item_id', 'score']], on='item_id', how='left')\n",
        "    final_df = pd.concat([final_df, train_top_n.head(top_n)], ignore_index=True)\n",
        "\n",
        "    return final_df[['user_id', 'item_id', 'score']]"
      ]
    },
    {
      "cell_type": "code",
      "execution_count": null,
      "metadata": {
        "execution": {
          "iopub.execute_input": "2025-10-24T22:58:10.092137Z",
          "iopub.status.busy": "2025-10-24T22:58:10.091226Z",
          "iopub.status.idle": "2025-10-24T22:58:10.110185Z",
          "shell.execute_reply": "2025-10-24T22:58:10.109042Z",
          "shell.execute_reply.started": "2025-10-24T22:58:10.092067Z"
        },
        "id": "r_6iyzFqrO60",
        "tags": []
      },
      "outputs": [],
      "source": [
        "def recommend_top_and_bottom_popular_with_ratings(events, user_id, top_n=50, bottom_n=50):\n",
        "    item_popularity = events.groupby('item_id').agg(\n",
        "        interaction_count_dumb=('user_id', 'count'),\n",
        "        average_rating=('rating', 'mean')\n",
        "    ).reset_index()\n",
        "\n",
        "    item_popularity['popularity_score_dumb'] = item_popularity['interaction_count_dumb'] * item_popularity['average_rating']\n",
        "\n",
        "    watched_items = events[events['user_id'] == user_id]['item_id'].unique()\n",
        "    item_popularity = item_popularity[~item_popularity['item_id'].isin(watched_items)]\n",
        "\n",
        "    item_popularity = item_popularity.sort_values(by='popularity_score_dumb', ascending=False)\n",
        "\n",
        "    top_popular = item_popularity.head(top_n)\n",
        "    bottom_popular = item_popularity.tail(bottom_n)\n",
        "\n",
        "    top_popular['user_id'] = user_id\n",
        "    bottom_popular['user_id'] = user_id\n",
        "\n",
        "    result = pd.concat([top_popular, bottom_popular], ignore_index=True)\n",
        "\n",
        "    return result[['user_id', 'item_id', 'popularity_score_dumb']]\n",
        "\n",
        "def recommend_top_and_bottom_by_average_rating(events, user_id, top_n=50, bottom_n=50):\n",
        "    item_ratings = events.groupby('item_id').agg(\n",
        "        average_rating_dumb=('rating', 'mean')\n",
        "    ).reset_index()\n",
        "\n",
        "    watched_items = events[events['user_id'] == user_id]['item_id'].unique()\n",
        "    item_ratings = item_ratings[~item_ratings['item_id'].isin(watched_items)]\n",
        "\n",
        "    item_ratings = item_ratings.sort_values(by='average_rating_dumb', ascending=False)\n",
        "\n",
        "    top_rated = item_ratings.head(top_n)\n",
        "    bottom_rated = item_ratings.tail(bottom_n)\n",
        "\n",
        "    top_rated['user_id'] = user_id\n",
        "    bottom_rated['user_id'] = user_id\n",
        "\n",
        "    result = pd.concat([top_rated, bottom_rated], ignore_index=True)\n",
        "\n",
        "    return result[['user_id', 'item_id', 'average_rating_dumb']]"
      ]
    },
    {
      "cell_type": "code",
      "execution_count": null,
      "metadata": {
        "execution": {
          "iopub.execute_input": "2025-10-24T22:58:10.112977Z",
          "iopub.status.busy": "2025-10-24T22:58:10.111539Z",
          "iopub.status.idle": "2025-10-24T23:14:30.682636Z",
          "shell.execute_reply": "2025-10-24T23:14:30.681146Z",
          "shell.execute_reply.started": "2025-10-24T22:58:10.112923Z"
        },
        "id": "a6RCCq6yrO60",
        "tags": []
      },
      "outputs": [],
      "source": [
        "# Результаты\n",
        "results_list = []\n",
        "\n",
        "unique_users = train_data['user_id'].unique()\n",
        "\n",
        "for user in unique_users:\n",
        "    user_recommendations = recommend_item_top_popular(train_data_glob, not_train_data_glob, user_id=user, n_negative=10, top_n=20)\n",
        "    results_list.append(user_recommendations)\n",
        "\n",
        "final_results_df = pd.concat(results_list, ignore_index=True)\n",
        "\n",
        "\n",
        "\n",
        "results_list = []\n",
        "\n",
        "unique_users = train_data['user_id'].unique()\n",
        "\n",
        "for user in unique_users:\n",
        "    user_recommendations = recommend_item_top_popular_avg_rating(train_data_glob, not_train_data_glob, user_id=user, n_negative=10, top_n=20)\n",
        "    results_list.append(user_recommendations)\n",
        "\n",
        "final_results_df2 = pd.concat(results_list, ignore_index=True)\n",
        "\n",
        "\n",
        "\n",
        "\n",
        "results_list = []\n",
        "\n",
        "unique_users = train_data['user_id'].unique()\n",
        "\n",
        "for user in unique_users:\n",
        "    user_recommendations3 = recommend_top_popular_with_ratings(train_data_glob, not_train_data_glob, user_id=user, n_negative=10, top_n=20)\n",
        "    results_list.append(user_recommendations3)\n",
        "\n",
        "final_results_df3 = pd.concat(results_list, ignore_index=True)\n",
        "\n",
        "\n",
        "\n",
        "\n",
        "results_list = []\n",
        "\n",
        "unique_users = train_data['user_id'].unique()\n",
        "\n",
        "for user in unique_users:\n",
        "    user_recommendations3 = recommend_top_and_bottom_popular_with_ratings(train_data_glob, user_id=user, top_n=50, bottom_n=50)\n",
        "    results_list.append(user_recommendations3)\n",
        "\n",
        "final_results_df4 = pd.concat(results_list, ignore_index=True)\n",
        "\n",
        "\n",
        "\n",
        "\n",
        "results_list = []\n",
        "\n",
        "unique_users = train_data['user_id'].unique()\n",
        "\n",
        "for user in unique_users:\n",
        "    user_recommendations4 = recommend_top_and_bottom_by_average_rating(train_data_glob, user_id=user, top_n=50, bottom_n=50)\n",
        "    results_list.append(user_recommendations4)\n",
        "\n",
        "final_results_df5 = pd.concat(results_list, ignore_index=True)"
      ]
    },
    {
      "cell_type": "code",
      "execution_count": null,
      "metadata": {
        "colab": {
          "base_uri": "https://localhost:8080/",
          "height": 111
        },
        "execution": {
          "iopub.execute_input": "2025-10-24T23:14:30.685885Z",
          "iopub.status.busy": "2025-10-24T23:14:30.684015Z",
          "iopub.status.idle": "2025-10-24T23:14:32.451939Z",
          "shell.execute_reply": "2025-10-24T23:14:32.450864Z",
          "shell.execute_reply.started": "2025-10-24T23:14:30.685808Z"
        },
        "id": "1cRv9J7-rO60",
        "outputId": "6820fa4c-16cd-42b2-de9d-08e601ef8a14",
        "tags": []
      },
      "outputs": [
        {
          "data": {
            "text/html": [
              "<div>\n",
              "<style scoped>\n",
              "    .dataframe tbody tr th:only-of-type {\n",
              "        vertical-align: middle;\n",
              "    }\n",
              "\n",
              "    .dataframe tbody tr th {\n",
              "        vertical-align: top;\n",
              "    }\n",
              "\n",
              "    .dataframe thead th {\n",
              "        text-align: right;\n",
              "    }\n",
              "</style>\n",
              "<table border=\"1\" class=\"dataframe\">\n",
              "  <thead>\n",
              "    <tr style=\"text-align: right;\">\n",
              "      <th></th>\n",
              "      <th>user_id</th>\n",
              "      <th>item_id</th>\n",
              "      <th>interaction_count</th>\n",
              "      <th>average_rating</th>\n",
              "      <th>score</th>\n",
              "      <th>popularity_score_dumb</th>\n",
              "      <th>average_rating_dumb</th>\n",
              "    </tr>\n",
              "  </thead>\n",
              "  <tbody>\n",
              "    <tr>\n",
              "      <th>0</th>\n",
              "      <td>0</td>\n",
              "      <td>2239</td>\n",
              "      <td>229.0</td>\n",
              "      <td>3.187773</td>\n",
              "      <td>0.058069</td>\n",
              "      <td>NaN</td>\n",
              "      <td>NaN</td>\n",
              "    </tr>\n",
              "    <tr>\n",
              "      <th>1</th>\n",
              "      <td>0</td>\n",
              "      <td>2931</td>\n",
              "      <td>691.0</td>\n",
              "      <td>4.393632</td>\n",
              "      <td>0.241756</td>\n",
              "      <td>NaN</td>\n",
              "      <td>4.393632</td>\n",
              "    </tr>\n",
              "  </tbody>\n",
              "</table>\n",
              "</div>"
            ],
            "text/plain": [
              "   user_id  item_id  interaction_count  average_rating     score  \\\n",
              "0        0     2239              229.0        3.187773  0.058069   \n",
              "1        0     2931              691.0        4.393632  0.241756   \n",
              "\n",
              "   popularity_score_dumb  average_rating_dumb  \n",
              "0                    NaN                  NaN  \n",
              "1                    NaN             4.393632  "
            ]
          },
          "execution_count": 37,
          "metadata": {},
          "output_type": "execute_result"
        }
      ],
      "source": [
        "popular_df = final_results_df.merge(final_results_df2, on=['user_id', 'item_id'], how='outer') \\\n",
        "                             .merge(final_results_df3, on=['user_id', 'item_id'], how='outer') \\\n",
        "                             .merge(final_results_df4, on=['user_id', 'item_id'], how='outer') \\\n",
        "                             .merge(final_results_df5, on=['user_id', 'item_id'], how='outer')\n",
        "\n",
        "popular_df.head(2)"
      ]
    },
    {
      "cell_type": "code",
      "execution_count": null,
      "metadata": {
        "colab": {
          "base_uri": "https://localhost:8080/",
          "height": 128
        },
        "execution": {
          "iopub.execute_input": "2025-10-24T23:14:32.470370Z",
          "iopub.status.busy": "2025-10-24T23:14:32.469081Z",
          "iopub.status.idle": "2025-10-24T23:14:32.550634Z",
          "shell.execute_reply": "2025-10-24T23:14:32.549474Z",
          "shell.execute_reply.started": "2025-10-24T23:14:32.470301Z"
        },
        "id": "AcMpYLJ_rO61",
        "outputId": "bf58fded-32a9-4a74-cfa8-582b8df60f60",
        "tags": []
      },
      "outputs": [
        {
          "name": "stdout",
          "output_type": "stream",
          "text": [
            "(1024521, 7)\n"
          ]
        },
        {
          "data": {
            "text/html": [
              "<div>\n",
              "<style scoped>\n",
              "    .dataframe tbody tr th:only-of-type {\n",
              "        vertical-align: middle;\n",
              "    }\n",
              "\n",
              "    .dataframe tbody tr th {\n",
              "        vertical-align: top;\n",
              "    }\n",
              "\n",
              "    .dataframe thead th {\n",
              "        text-align: right;\n",
              "    }\n",
              "</style>\n",
              "<table border=\"1\" class=\"dataframe\">\n",
              "  <thead>\n",
              "    <tr style=\"text-align: right;\">\n",
              "      <th></th>\n",
              "      <th>user_id</th>\n",
              "      <th>item_id</th>\n",
              "      <th>interaction_count</th>\n",
              "      <th>average_rating</th>\n",
              "      <th>score</th>\n",
              "      <th>popularity_score_dumb</th>\n",
              "      <th>average_rating_dumb</th>\n",
              "    </tr>\n",
              "  </thead>\n",
              "  <tbody>\n",
              "    <tr>\n",
              "      <th>0</th>\n",
              "      <td>0</td>\n",
              "      <td>2239</td>\n",
              "      <td>229.0</td>\n",
              "      <td>3.187773</td>\n",
              "      <td>0.058069</td>\n",
              "      <td>NaN</td>\n",
              "      <td>NaN</td>\n",
              "    </tr>\n",
              "    <tr>\n",
              "      <th>1</th>\n",
              "      <td>0</td>\n",
              "      <td>2931</td>\n",
              "      <td>691.0</td>\n",
              "      <td>4.393632</td>\n",
              "      <td>0.241756</td>\n",
              "      <td>NaN</td>\n",
              "      <td>4.393632</td>\n",
              "    </tr>\n",
              "  </tbody>\n",
              "</table>\n",
              "</div>"
            ],
            "text/plain": [
              "   user_id  item_id  interaction_count  average_rating     score  \\\n",
              "0        0     2239              229.0        3.187773  0.058069   \n",
              "1        0     2931              691.0        4.393632  0.241756   \n",
              "\n",
              "   popularity_score_dumb  average_rating_dumb  \n",
              "0                    NaN                  NaN  \n",
              "1                    NaN             4.393632  "
            ]
          },
          "execution_count": 39,
          "metadata": {},
          "output_type": "execute_result"
        }
      ],
      "source": [
        "filter_i = (popular_df['interaction_count'].notna() | popular_df['average_rating'].notna() | popular_df['score'].notna())\n",
        "popular_df = popular_df[filter_i]\n",
        "\n",
        "print(popular_df.shape)\n",
        "popular_df.head(2)"
      ]
    },
    {
      "cell_type": "code",
      "execution_count": null,
      "metadata": {
        "id": "7PezSSS8rO61"
      },
      "outputs": [],
      "source": []
    },
    {
      "cell_type": "markdown",
      "metadata": {
        "id": "YRy1tCJlrO61"
      },
      "source": [
        "# Faiss"
      ]
    },
    {
      "cell_type": "code",
      "execution_count": null,
      "metadata": {
        "colab": {
          "base_uri": "https://localhost:8080/"
        },
        "execution": {
          "iopub.execute_input": "2025-10-24T23:14:32.553143Z",
          "iopub.status.busy": "2025-10-24T23:14:32.552105Z",
          "iopub.status.idle": "2025-10-24T23:15:26.760213Z",
          "shell.execute_reply": "2025-10-24T23:15:26.759157Z",
          "shell.execute_reply.started": "2025-10-24T23:14:32.553091Z"
        },
        "id": "k68rluLPrO61",
        "outputId": "293ab978-342a-40dc-a897-a2ce560f1ff2",
        "tags": []
      },
      "outputs": [
        {
          "name": "stderr",
          "output_type": "stream",
          "text": [
            "Обработка L2: 100%|██████████| 6040/6040 [00:00<00:00, 9771.28it/s] \n",
            "Обработка IP: 100%|██████████| 6040/6040 [00:00<00:00, 10409.12it/s]\n"
          ]
        }
      ],
      "source": [
        "\n",
        "user_events = train_data_glob.groupby('user_id')['item_id'].apply(set).to_dict()\n",
        "train_matrix_dense = train_matrix_glob.toarray().astype('float32')\n",
        "not_train_matrix_dense = not_train_matrix_glob.toarray().astype('float32')\n",
        "\n",
        "\n",
        "k = 30\n",
        "dimension = train_matrix_dense.shape[1]\n",
        "gpu_index_l2 = faiss.IndexFlatL2(dimension)\n",
        "gpu_index_ip = faiss.IndexFlatIP(dimension)\n",
        "gpu_index_l2.add(train_matrix_dense)\n",
        "gpu_index_ip.add(train_matrix_dense)\n",
        "distances_l2, indices_l2 = gpu_index_l2.search(not_train_matrix_dense, k)\n",
        "distances_ip, indices_ip = gpu_index_ip.search(not_train_matrix_dense, k)\n",
        "\n",
        "\n",
        "recommendations_l2 = []\n",
        "for user_id in tqdm(range(not_train_matrix_dense.shape[0]), desc=\"Обработка L2\"):\n",
        "    seen_items = user_events.get(user_id, set())\n",
        "    for neighbor_idx in range(k):\n",
        "        item_id = indices_l2[user_id][neighbor_idx]\n",
        "        if item_id not in seen_items:\n",
        "            distance = distances_l2[user_id][neighbor_idx]\n",
        "            score_l2 = 1 / (distance + 1e-5)\n",
        "            recommendations_l2.append((user_id, item_id, score_l2))\n",
        "\n",
        "\n",
        "recommendations_ip = []\n",
        "for user_id in tqdm(range(not_train_matrix_dense.shape[0]), desc=\"Обработка IP\"):\n",
        "    seen_items = user_events.get(user_id, set())\n",
        "    for neighbor_idx in range(k):\n",
        "        item_id = indices_ip[user_id][neighbor_idx]\n",
        "        if item_id not in seen_items:\n",
        "            distance = distances_ip[user_id][neighbor_idx]\n",
        "            score_ip = 1 / (distance + 1e-5)\n",
        "            recommendations_ip.append((user_id, item_id, score_ip))\n",
        "\n",
        "df_l2 = pd.DataFrame(recommendations_l2, columns=['user_id', 'item_id', 'score_l2'])\n",
        "df_ip = pd.DataFrame(recommendations_ip, columns=['user_id', 'item_id', 'score_ip'])\n",
        "\n",
        "\n",
        "df_faiss = pd.merge(df_l2, df_ip, on=['user_id', 'item_id'], how='outer')\n",
        "df_faiss['score_total'] = df_faiss[['score_l2', 'score_ip']].apply(\n",
        "    lambda x: hmean(x.dropna()) if not x.isnull().any() else np.nan, axis=1)\n",
        "scaler = MinMaxScaler()\n",
        "df_faiss[['score_total', 'score_l2', 'score_ip']] = scaler.fit_transform(df_faiss[['score_total', 'score_l2', 'score_ip']])"
      ]
    },
    {
      "cell_type": "code",
      "execution_count": null,
      "metadata": {
        "colab": {
          "base_uri": "https://localhost:8080/",
          "height": 149
        },
        "execution": {
          "iopub.execute_input": "2025-10-24T23:15:26.775556Z",
          "iopub.status.busy": "2025-10-24T23:15:26.774890Z",
          "iopub.status.idle": "2025-10-24T23:15:26.793732Z",
          "shell.execute_reply": "2025-10-24T23:15:26.792671Z",
          "shell.execute_reply.started": "2025-10-24T23:15:26.775509Z"
        },
        "id": "7F9mWbVcrO62",
        "outputId": "a904d15c-6fd2-43fd-fca7-44cdd91b2b52",
        "tags": []
      },
      "outputs": [
        {
          "name": "stdout",
          "output_type": "stream",
          "text": [
            "(354993, 5)\n"
          ]
        },
        {
          "data": {
            "text/html": [
              "<div>\n",
              "<style scoped>\n",
              "    .dataframe tbody tr th:only-of-type {\n",
              "        vertical-align: middle;\n",
              "    }\n",
              "\n",
              "    .dataframe tbody tr th {\n",
              "        vertical-align: top;\n",
              "    }\n",
              "\n",
              "    .dataframe thead th {\n",
              "        text-align: right;\n",
              "    }\n",
              "</style>\n",
              "<table border=\"1\" class=\"dataframe\">\n",
              "  <thead>\n",
              "    <tr style=\"text-align: right;\">\n",
              "      <th></th>\n",
              "      <th>user_id</th>\n",
              "      <th>item_id</th>\n",
              "      <th>score_l2</th>\n",
              "      <th>score_ip</th>\n",
              "      <th>score_total</th>\n",
              "    </tr>\n",
              "  </thead>\n",
              "  <tbody>\n",
              "    <tr>\n",
              "      <th>0</th>\n",
              "      <td>0</td>\n",
              "      <td>5408</td>\n",
              "      <td>0.115658</td>\n",
              "      <td>NaN</td>\n",
              "      <td>NaN</td>\n",
              "    </tr>\n",
              "    <tr>\n",
              "      <th>1</th>\n",
              "      <td>0</td>\n",
              "      <td>1780</td>\n",
              "      <td>0.109474</td>\n",
              "      <td>NaN</td>\n",
              "      <td>NaN</td>\n",
              "    </tr>\n",
              "  </tbody>\n",
              "</table>\n",
              "</div>"
            ],
            "text/plain": [
              "   user_id  item_id  score_l2  score_ip  score_total\n",
              "0        0     5408  0.115658       NaN          NaN\n",
              "1        0     1780  0.109474       NaN          NaN"
            ]
          },
          "execution_count": 42,
          "metadata": {},
          "output_type": "execute_result"
        }
      ],
      "source": [
        "print(df_faiss.shape)\n",
        "df_faiss.head(2)"
      ]
    },
    {
      "cell_type": "markdown",
      "metadata": {
        "id": "D4EOoGx_rO62"
      },
      "source": [
        "## KNN"
      ]
    },
    {
      "cell_type": "markdown",
      "metadata": {
        "id": "B9irUwThrO62"
      },
      "source": [
        "#### Функция для расчета Recall@k с прогресс-баром"
      ]
    },
    {
      "cell_type": "code",
      "execution_count": null,
      "metadata": {
        "execution": {
          "iopub.execute_input": "2025-10-24T23:15:26.795929Z",
          "iopub.status.busy": "2025-10-24T23:15:26.794906Z",
          "iopub.status.idle": "2025-10-24T23:15:26.809310Z",
          "shell.execute_reply": "2025-10-24T23:15:26.808273Z",
          "shell.execute_reply.started": "2025-10-24T23:15:26.795891Z"
        },
        "id": "KpfL-ju_rO62",
        "tags": []
      },
      "outputs": [],
      "source": [
        "def recall_at_k_knn(val_matrix, recommendations, k=10, n_jobs=-1):\n",
        "    num_users = val_matrix.shape[0]\n",
        "\n",
        "    def user_recall(user_id):\n",
        "        true_items = set(val_matrix[user_id].indices)\n",
        "        recommended_items = set(recommendations[user_id])\n",
        "        hits = len(true_items & recommended_items)\n",
        "        recall = hits / len(true_items) if len(true_items) > 0 else 0\n",
        "        return recall\n",
        "\n",
        "    recommendations = [set(map(tuple, rec)) if isinstance(rec[0], list) else set(rec) for rec in recommendations]\n",
        "    recalls = Parallel(n_jobs=n_jobs)(\n",
        "        delayed(user_recall)(i) for i in tqdm(range(num_users), desc=\"Calculating Recall@k\")\n",
        "    )\n",
        "\n",
        "    return np.mean(recalls)"
      ]
    },
    {
      "cell_type": "code",
      "execution_count": null,
      "metadata": {
        "execution": {
          "iopub.execute_input": "2025-10-24T23:27:06.579600Z",
          "iopub.status.busy": "2025-10-24T23:27:06.578346Z",
          "iopub.status.idle": "2025-10-24T23:27:06.602358Z",
          "shell.execute_reply": "2025-10-24T23:27:06.601109Z",
          "shell.execute_reply.started": "2025-10-24T23:27:06.579550Z"
        },
        "id": "pG4NSNf2rO63",
        "tags": []
      },
      "outputs": [],
      "source": [
        "import numpy as np\n",
        "import pandas as pd\n",
        "from sklearn.neighbors import NearestNeighbors\n",
        "from scipy import sparse\n",
        "from tqdm.notebook import tqdm as tqdm_notebook\n",
        "\n",
        "def knn_user_based_recommendations_df(train_matrix, drop_items_df, k=30, metric=None, n_jobs=-1, algorithm=None):\n",
        "    # Преобразуем разреженную матрицу в плотный формат (как у тебя)\n",
        "    train_matrix_dense = train_matrix.toarray() if not isinstance(train_matrix, np.ndarray) else train_matrix\n",
        "    n_users, n_items = train_matrix_dense.shape\n",
        "\n",
        "    # Модель ближайших соседей\n",
        "    n_neighbors = min(k + 1, n_users)\n",
        "    model = NearestNeighbors(n_neighbors=n_neighbors, metric=metric, algorithm='brute', n_jobs=n_jobs)\n",
        "    model.fit(train_matrix_dense)\n",
        "\n",
        "    # Все соседи сразу\n",
        "    distances_all, indices_all = model.kneighbors(train_matrix_dense, return_distance=True)\n",
        "    neigh_indices = indices_all[:, 1:]\n",
        "    neigh_distances = distances_all[:, 1:]\n",
        "\n",
        "    # Просмотренное\n",
        "    user_events = drop_items_df.groupby('user_id')['item_id'].apply(set).to_dict()\n",
        "\n",
        "    # Матрица W (users x users): единицы на местах (u, neighbor_of_u)\n",
        "    rows = np.repeat(np.arange(n_users), neigh_indices.shape[1])\n",
        "    cols = neigh_indices.ravel()\n",
        "    data = np.ones_like(cols, dtype=np.float32)\n",
        "    W = sparse.coo_matrix((data, (rows, cols)), shape=(n_users, n_users)).tocsr()\n",
        "\n",
        "    # Сумма по соседям\n",
        "    summed_by_neighbors = W @ train_matrix_dense  # (n_users x n_items)\n",
        "\n",
        "    rec_rows = []\n",
        "    for u in tqdm_notebook(range(n_users), desc=\"Generating Recommendations\"):\n",
        "        scores = summed_by_neighbors[u].copy()\n",
        "\n",
        "        # безопасная фильтрация индексов\n",
        "        watched_items = user_events.get(u, set())\n",
        "        if watched_items:\n",
        "            idx = np.fromiter((int(i) for i in watched_items), dtype=int, count=len(watched_items))\n",
        "            # оставляем только существующие столбцы\n",
        "            idx = idx[(idx >= 0) & (idx < n_items)]\n",
        "            if idx.size:\n",
        "                scores[idx] = -np.inf\n",
        "        # ----------------------------------------------------------------\n",
        "\n",
        "        if not np.isfinite(scores).any():\n",
        "            continue\n",
        "\n",
        "        # Топ-k\n",
        "        top_idx = np.argpartition(-scores, kth=min(k, n_items - 1))[:k]\n",
        "        top_idx = top_idx[np.argsort(-scores[top_idx])]\n",
        "        top_scores = scores[top_idx]\n",
        "\n",
        "        # distance берём «как у тебя»: первые L расстояний соседей\n",
        "        dists = neigh_distances[u][:len(top_idx)]\n",
        "\n",
        "        for it, sc, dd in zip(top_idx, top_scores, dists):\n",
        "            rec_rows.append((u, int(it), float(sc), float(dd)))\n",
        "\n",
        "    df_recommendations = pd.DataFrame(rec_rows, columns=['user_id', 'item_id', 'score', 'distance'])\n",
        "\n",
        "    # делаем формат под твой грид: [ ((user_id, item_id), distance), ... ]\n",
        "    pairs = list(df_recommendations[['user_id', 'item_id']].itertuples(index=False, name=None))\n",
        "    dists = df_recommendations['distance'].tolist()\n",
        "    return list(zip(pairs, dists))\n"
      ]
    },
    {
      "cell_type": "markdown",
      "source": [
        "перебор гиперпараметров\n"
      ],
      "metadata": {
        "id": "4VxLyUXU3PqR"
      }
    },
    {
      "cell_type": "code",
      "execution_count": null,
      "metadata": {
        "execution": {
          "iopub.execute_input": "2025-10-24T23:27:07.653819Z",
          "iopub.status.busy": "2025-10-24T23:27:07.652312Z",
          "iopub.status.idle": "2025-10-24T23:27:07.673562Z",
          "shell.execute_reply": "2025-10-24T23:27:07.672077Z",
          "shell.execute_reply.started": "2025-10-24T23:27:07.653781Z"
        },
        "id": "ssf_bYeJrO63",
        "tags": []
      },
      "outputs": [],
      "source": [
        "def grid_search_knn_user_based(train_matrix, val_matrix,drop_items_df, k, metrics, algorithms, n_jobs=12):\n",
        "    best_recall = 0\n",
        "    best_params = None\n",
        "    history = []\n",
        "\n",
        "\n",
        "    for metric in metrics:\n",
        "        for algorithm in algorithms:\n",
        "            if metric not in VALID_METRICS.get(algorithm, []):\n",
        "                print(f\"Skipping incompatible combination: metric={metric}, algorithm={algorithm}\")\n",
        "                continue\n",
        "\n",
        "            print(f\"Trying k={k}, metric={metric}, algorithm={algorithm}\")\n",
        "            try:\n",
        "                user_recommendations_with_distances = knn_user_based_recommendations_df(train_matrix,drop_items_df, k=k, metric=metric, n_jobs=n_jobs, algorithm='brute')\n",
        "                user_recommendations = [rec for rec, dist in user_recommendations_with_distances]\n",
        "                recall_user_based = recall_at_k_knn(val_matrix, user_recommendations, k=10, n_jobs=n_jobs)\n",
        "                history.append({\n",
        "                    'metric': metric,\n",
        "                    'algorithm': algorithm,\n",
        "                    'recall': recall_user_based\n",
        "                })\n",
        "\n",
        "\n",
        "                if recall_user_based > best_recall:\n",
        "                    best_recall = recall_user_based\n",
        "                    best_params = {'metric': metric, 'algorithm': algorithm}\n",
        "\n",
        "                print(f\"Current best recall: {best_recall} with params {best_params}\\n\")\n",
        "\n",
        "            except ValueError as e:\n",
        "                print(f\"Error with metric={metric}, algorithm={algorithm}: {e}\")\n",
        "\n",
        "    return best_recall, best_params, history"
      ]
    },
    {
      "cell_type": "code",
      "execution_count": null,
      "metadata": {
        "colab": {
          "background_save": true,
          "base_uri": "https://localhost:8080/",
          "height": 133,
          "referenced_widgets": [
            "d027dae89e35485bb07e738986bc1791",
            "5fe3a635802a4e2e83d33783329e70ce",
            "b2d7bd45867f497c9bef35b681979013",
            "974a807316f54b3da3dd59d84db33103",
            "8a97f23f6ec14d81b5bedff85fb43720",
            "047d6bc9a3564253a899951384e9e5fe",
            "060a7b5db6db42df812ef3caaf553136"
          ]
        },
        "execution": {
          "iopub.execute_input": "2025-10-24T23:27:08.342577Z",
          "iopub.status.busy": "2025-10-24T23:27:08.340664Z",
          "iopub.status.idle": "2025-10-24T23:37:37.323104Z",
          "shell.execute_reply": "2025-10-24T23:37:37.321635Z",
          "shell.execute_reply.started": "2025-10-24T23:27:08.342530Z"
        },
        "id": "wyB0YqlBrO63",
        "tags": [],
        "outputId": "e3005b5b-4611-4a21-d265-d0788083ab38"
      },
      "outputs": [
        {
          "name": "stdout",
          "output_type": "stream",
          "text": [
            "Skipping incompatible combination: metric=cosine, algorithm=ball_tree\n",
            "Skipping incompatible combination: metric=cosine, algorithm=kd_tree\n",
            "Trying k=10, metric=cosine, algorithm=brute\n"
          ]
        },
        {
          "data": {
            "application/vnd.jupyter.widget-view+json": {
              "model_id": "d027dae89e35485bb07e738986bc1791",
              "version_major": 2,
              "version_minor": 0
            },
            "text/plain": [
              "Generating Recommendations:   0%|          | 0/6040 [00:00<?, ?it/s]"
            ]
          },
          "metadata": {},
          "output_type": "display_data"
        },
        {
          "name": "stderr",
          "output_type": "stream",
          "text": [
            "Calculating Recall@k: 100%|██████████| 6040/6040 [02:01<00:00, 49.87it/s] \n"
          ]
        },
        {
          "name": "stdout",
          "output_type": "stream",
          "text": [
            "Current best recall: 0.0028602964364553766 with params {'metric': 'cosine', 'algorithm': 'brute'}\n",
            "\n",
            "Trying k=10, metric=euclidean, algorithm=ball_tree\n"
          ]
        },
        {
          "data": {
            "application/vnd.jupyter.widget-view+json": {
              "model_id": "5fe3a635802a4e2e83d33783329e70ce",
              "version_major": 2,
              "version_minor": 0
            },
            "text/plain": [
              "Generating Recommendations:   0%|          | 0/6040 [00:00<?, ?it/s]"
            ]
          },
          "metadata": {},
          "output_type": "display_data"
        },
        {
          "name": "stderr",
          "output_type": "stream",
          "text": [
            "Calculating Recall@k: 100%|██████████| 6040/6040 [01:03<00:00, 95.66it/s] \n"
          ]
        },
        {
          "name": "stdout",
          "output_type": "stream",
          "text": [
            "Current best recall: 0.0032860296436455377 with params {'metric': 'euclidean', 'algorithm': 'ball_tree'}\n",
            "\n",
            "Trying k=10, metric=euclidean, algorithm=kd_tree\n"
          ]
        },
        {
          "data": {
            "application/vnd.jupyter.widget-view+json": {
              "model_id": "b2d7bd45867f497c9bef35b681979013",
              "version_major": 2,
              "version_minor": 0
            },
            "text/plain": [
              "Generating Recommendations:   0%|          | 0/6040 [00:00<?, ?it/s]"
            ]
          },
          "metadata": {},
          "output_type": "display_data"
        },
        {
          "name": "stderr",
          "output_type": "stream",
          "text": [
            "Calculating Recall@k: 100%|██████████| 6040/6040 [01:02<00:00, 96.84it/s] \n"
          ]
        },
        {
          "name": "stdout",
          "output_type": "stream",
          "text": [
            "Current best recall: 0.0032860296436455377 with params {'metric': 'euclidean', 'algorithm': 'ball_tree'}\n",
            "\n",
            "Trying k=10, metric=euclidean, algorithm=brute\n"
          ]
        },
        {
          "data": {
            "application/vnd.jupyter.widget-view+json": {
              "model_id": "974a807316f54b3da3dd59d84db33103",
              "version_major": 2,
              "version_minor": 0
            },
            "text/plain": [
              "Generating Recommendations:   0%|          | 0/6040 [00:00<?, ?it/s]"
            ]
          },
          "metadata": {},
          "output_type": "display_data"
        },
        {
          "name": "stderr",
          "output_type": "stream",
          "text": [
            "Calculating Recall@k: 100%|██████████| 6040/6040 [01:01<00:00, 98.02it/s] \n"
          ]
        },
        {
          "name": "stdout",
          "output_type": "stream",
          "text": [
            "Current best recall: 0.0032860296436455377 with params {'metric': 'euclidean', 'algorithm': 'ball_tree'}\n",
            "\n",
            "Trying k=10, metric=manhattan, algorithm=ball_tree\n"
          ]
        },
        {
          "data": {
            "application/vnd.jupyter.widget-view+json": {
              "model_id": "8a97f23f6ec14d81b5bedff85fb43720",
              "version_major": 2,
              "version_minor": 0
            },
            "text/plain": [
              "Generating Recommendations:   0%|          | 0/6040 [00:00<?, ?it/s]"
            ]
          },
          "metadata": {},
          "output_type": "display_data"
        },
        {
          "name": "stderr",
          "output_type": "stream",
          "text": [
            "Calculating Recall@k: 100%|██████████| 6040/6040 [01:02<00:00, 97.14it/s] \n"
          ]
        },
        {
          "name": "stdout",
          "output_type": "stream",
          "text": [
            "Current best recall: 0.0032860296436455377 with params {'metric': 'euclidean', 'algorithm': 'ball_tree'}\n",
            "\n",
            "Trying k=10, metric=manhattan, algorithm=kd_tree\n"
          ]
        },
        {
          "data": {
            "application/vnd.jupyter.widget-view+json": {
              "model_id": "047d6bc9a3564253a899951384e9e5fe",
              "version_major": 2,
              "version_minor": 0
            },
            "text/plain": [
              "Generating Recommendations:   0%|          | 0/6040 [00:00<?, ?it/s]"
            ]
          },
          "metadata": {},
          "output_type": "display_data"
        },
        {
          "name": "stderr",
          "output_type": "stream",
          "text": [
            "Calculating Recall@k: 100%|██████████| 6040/6040 [01:02<00:00, 96.88it/s] \n"
          ]
        },
        {
          "name": "stdout",
          "output_type": "stream",
          "text": [
            "Current best recall: 0.0032860296436455377 with params {'metric': 'euclidean', 'algorithm': 'ball_tree'}\n",
            "\n",
            "Trying k=10, metric=manhattan, algorithm=brute\n"
          ]
        },
        {
          "data": {
            "application/vnd.jupyter.widget-view+json": {
              "model_id": "060a7b5db6db42df812ef3caaf553136",
              "version_major": 2,
              "version_minor": 0
            },
            "text/plain": [
              "Generating Recommendations:   0%|          | 0/6040 [00:00<?, ?it/s]"
            ]
          },
          "metadata": {},
          "output_type": "display_data"
        },
        {
          "name": "stderr",
          "output_type": "stream",
          "text": [
            "Calculating Recall@k: 100%|██████████| 6040/6040 [01:02<00:00, 97.31it/s] \n"
          ]
        },
        {
          "name": "stdout",
          "output_type": "stream",
          "text": [
            "Current best recall: 0.0032860296436455377 with params {'metric': 'euclidean', 'algorithm': 'ball_tree'}\n",
            "\n",
            "\n",
            "Best Recall@10: 0.0032860296436455377\n",
            "Best Parameters: {'metric': 'euclidean', 'algorithm': 'ball_tree'}\n"
          ]
        }
      ],
      "source": [
        "k_values = [50]\n",
        "metrics = ['cosine', 'euclidean', 'manhattan']\n",
        "algorithms = ['ball_tree', 'kd_tree', 'brute']\n",
        "\n",
        "best_recall, best_params, history = grid_search_knn_user_based(train_matrix, val_matrix,drop_items_df=events, k=10, metrics=metrics, n_jobs=6,algorithms=algorithms)\n",
        "\n",
        "print(f\"\\nBest Recall@10: {best_recall}\")\n",
        "print(f\"Best Parameters: {best_params}\")"
      ]
    },
    {
      "cell_type": "code",
      "execution_count": null,
      "metadata": {
        "colab": {
          "base_uri": "https://localhost:8080/",
          "height": 49,
          "referenced_widgets": [
            "d37a764cf2544d24a558e1c5204978ff"
          ]
        },
        "execution": {
          "iopub.execute_input": "2025-10-24T23:37:37.327393Z",
          "iopub.status.busy": "2025-10-24T23:37:37.325894Z",
          "iopub.status.idle": "2025-10-24T23:37:45.357958Z",
          "shell.execute_reply": "2025-10-24T23:37:45.356599Z",
          "shell.execute_reply.started": "2025-10-24T23:37:37.327348Z"
        },
        "id": "FZOQqXR2rO63",
        "outputId": "fcdde889-8415-468a-d99f-61cb37b518ed",
        "tags": []
      },
      "outputs": [
        {
          "data": {
            "application/vnd.jupyter.widget-view+json": {
              "model_id": "d37a764cf2544d24a558e1c5204978ff",
              "version_major": 2,
              "version_minor": 0
            },
            "text/plain": [
              "Generating Recommendations:   0%|          | 0/6040 [00:00<?, ?it/s]"
            ]
          },
          "metadata": {},
          "output_type": "display_data"
        }
      ],
      "source": [
        "recomemendations_df_knn = knn_user_based_recommendations_df(train_matrix=train_matrix_glob, drop_items_df=train_data_glob, k=50, metric='cosine', n_jobs=12)"
      ]
    },
    {
      "cell_type": "code",
      "execution_count": null,
      "metadata": {
        "execution": {
          "iopub.execute_input": "2025-10-25T00:07:02.857107Z",
          "iopub.status.busy": "2025-10-25T00:07:02.855708Z",
          "iopub.status.idle": "2025-10-25T00:07:03.591186Z",
          "shell.execute_reply": "2025-10-25T00:07:03.589937Z",
          "shell.execute_reply.started": "2025-10-25T00:07:02.857046Z"
        },
        "tags": [],
        "id": "vvJQxM2Mzhqn"
      },
      "outputs": [],
      "source": [
        "pairs, dists = zip(*recomemendations_df_knn)   # <-- ВАЖНО: zip(*...)\n",
        "pairs = list(pairs)\n",
        "dists = list(dists)\n",
        "\n",
        "f_recommendations = pd.DataFrame(\n",
        "    [(u, i, np.nan, d) for (u, i), d in zip(pairs, dists)],\n",
        "    columns=['user_id', 'item_id', 'score', 'distance']\n",
        ")"
      ]
    },
    {
      "cell_type": "markdown",
      "metadata": {
        "id": "3TYIEGa5rO64"
      },
      "source": [
        "# Кластеризация"
      ]
    },
    {
      "cell_type": "code",
      "execution_count": null,
      "metadata": {
        "execution": {
          "iopub.execute_input": "2025-10-24T23:37:45.360809Z",
          "iopub.status.busy": "2025-10-24T23:37:45.359446Z",
          "iopub.status.idle": "2025-10-24T23:37:45.463325Z",
          "shell.execute_reply": "2025-10-24T23:37:45.462156Z",
          "shell.execute_reply.started": "2025-10-24T23:37:45.360758Z"
        },
        "id": "kxY2NcmQrO64",
        "tags": []
      },
      "outputs": [],
      "source": [
        "train_matrix_dense = train_matrix_glob.toarray()\n",
        "cluster_range = range(2, 21)\n",
        "sse_kmeans = []  # Sum of Squared Errors для KMeans (метод локтя)\n",
        "silhouette_kmeans = []  # Силуэтный коэффициент для KMeans\n",
        "silhouette_agg = []  # Силуэтный коэффициент для иерархической кластеризации\n",
        "silhouette_dbscan = []  # Силуэтный коэффициент для DBSCAN"
      ]
    },
    {
      "cell_type": "code",
      "execution_count": null,
      "metadata": {
        "colab": {
          "base_uri": "https://localhost:8080/"
        },
        "execution": {
          "iopub.execute_input": "2025-10-24T23:37:45.467212Z",
          "iopub.status.busy": "2025-10-24T23:37:45.466095Z",
          "iopub.status.idle": "2025-10-25T00:01:33.869678Z",
          "shell.execute_reply": "2025-10-25T00:01:33.868446Z",
          "shell.execute_reply.started": "2025-10-24T23:37:45.467176Z"
        },
        "id": "QuPkVYrzrO64",
        "outputId": "bb9e6241-bd9f-4535-a32f-a31ede34f221",
        "tags": []
      },
      "outputs": [
        {
          "name": "stderr",
          "output_type": "stream",
          "text": [
            "Clustering:: 100%|██████████| 19/19 [23:48<00:00, 75.18s/it]\n"
          ]
        }
      ],
      "source": [
        "\n",
        "for n_clusters in tqdm(cluster_range, desc=\"Clustering:\"):\n",
        "    kmeans = KMeans(n_clusters=n_clusters, random_state=42)\n",
        "    kmeans.fit(train_matrix_dense)\n",
        "    sse_kmeans.append(kmeans.inertia_)\n",
        "    silhouette_avg_kmeans = silhouette_score(train_matrix_dense, kmeans.labels_)\n",
        "    silhouette_kmeans.append(silhouette_avg_kmeans)\n",
        "    agg_clustering = AgglomerativeClustering(n_clusters=n_clusters)\n",
        "    labels_agg = agg_clustering.fit_predict(train_matrix_dense)\n",
        "    silhouette_avg_agg = silhouette_score(train_matrix_dense, labels_agg)\n",
        "    silhouette_agg.append(silhouette_avg_agg)"
      ]
    },
    {
      "cell_type": "code",
      "execution_count": null,
      "metadata": {
        "execution": {
          "iopub.execute_input": "2025-10-25T00:01:33.872511Z",
          "iopub.status.busy": "2025-10-25T00:01:33.871379Z",
          "iopub.status.idle": "2025-10-25T00:01:36.336941Z",
          "shell.execute_reply": "2025-10-25T00:01:36.335771Z",
          "shell.execute_reply.started": "2025-10-25T00:01:33.872449Z"
        },
        "id": "CDGaL_cRrO64",
        "tags": [],
        "outputId": "96e2aa05-129e-4218-b96c-a3b6219156db"
      },
      "outputs": [
        {
          "data": {
            "image/png": "[encoded data removed]",
            "text/plain": [
              "<Figure size 640x480 with 1 Axes>"
            ]
          },
          "metadata": {},
          "output_type": "display_data"
        }
      ],
      "source": [
        "neighbors = NearestNeighbors(n_neighbors=5)\n",
        "neighbors_fit = neighbors.fit(train_matrix_dense)\n",
        "distances, indices = neighbors_fit.kneighbors(train_matrix_dense)\n",
        "distances = np.sort(distances[:, 4], axis=0)\n",
        "\n",
        "\n",
        "plt.plot(distances)\n",
        "plt.title(\"KNN-график для поиска оптимального eps\")\n",
        "plt.xlabel(\"Точки данных\")\n",
        "plt.ylabel(\"Расстояние до 5-го ближайшего соседа\")\n",
        "plt.grid(True)\n",
        "plt.show()"
      ]
    },
    {
      "cell_type": "code",
      "execution_count": null,
      "metadata": {
        "execution": {
          "iopub.execute_input": "2025-10-25T00:01:36.339434Z",
          "iopub.status.busy": "2025-10-25T00:01:36.338575Z",
          "iopub.status.idle": "2025-10-25T00:01:40.287412Z",
          "shell.execute_reply": "2025-10-25T00:01:40.286143Z",
          "shell.execute_reply.started": "2025-10-25T00:01:36.339398Z"
        },
        "id": "yB-de3_6rO64",
        "tags": []
      },
      "outputs": [],
      "source": [
        "# DBSCAN\n",
        "dbscan = DBSCAN(eps=50, min_samples=3)\n",
        "labels_dbscan = dbscan.fit_predict(train_matrix_dense)\n",
        "silhouette_avg_dbscan = silhouette_score(train_matrix_dense, labels_dbscan) if len(set(labels_dbscan)) > 1 else -1\n",
        "silhouette_dbscan.append(silhouette_avg_dbscan)"
      ]
    },
    {
      "cell_type": "code",
      "execution_count": null,
      "metadata": {
        "execution": {
          "iopub.execute_input": "2025-10-25T00:01:40.290493Z",
          "iopub.status.busy": "2025-10-25T00:01:40.288939Z",
          "iopub.status.idle": "2025-10-25T00:01:40.876007Z",
          "shell.execute_reply": "2025-10-25T00:01:40.874754Z",
          "shell.execute_reply.started": "2025-10-25T00:01:40.290440Z"
        },
        "id": "Y_XvuLl8rO65",
        "tags": [],
        "outputId": "54bc5a04-bfb5-41c0-babc-5e20f03840e6"
      },
      "outputs": [
        {
          "data": {
            "image/png": "[encoded data removed]",
            "text/plain": [
              "<Figure size 1400x800 with 2 Axes>"
            ]
          },
          "metadata": {},
          "output_type": "display_data"
        }
      ],
      "source": [
        "# Построение графиков\n",
        "plt.figure(figsize=(14, 8))\n",
        "\n",
        "plt.subplot(1, 2, 1)\n",
        "plt.plot(cluster_range, sse_kmeans, 'bo-', markersize=8)\n",
        "plt.title('Метод локтя для KMeans', fontsize=14)\n",
        "plt.xlabel('Количество кластеров', fontsize=12)\n",
        "plt.ylabel('Сумма квадратов расстояний до центроидов (SSE)', fontsize=12)\n",
        "plt.grid(True)\n",
        "\n",
        "plt.subplot(1, 2, 2)\n",
        "plt.plot(cluster_range, silhouette_kmeans, 'go-', markersize=8, label='KMeans')\n",
        "plt.plot(cluster_range, silhouette_agg, 'ro-', markersize=8, label='Agglomerative Clustering')\n",
        "plt.axhline(y=silhouette_avg_dbscan, color='b', linestyle='--', label=f'DBSCAN: {silhouette_avg_dbscan:.2f}')\n",
        "plt.title('Силуэтный коэффици\\ент для различных методов', fontsize=14)\n",
        "plt.xlabel('Количество кластеров', fontsize=12)\n",
        "plt.ylabel('Средний силуэтный коэффициент', fontsize=12)\n",
        "plt.legend()\n",
        "plt.grid(True)\n",
        "\n",
        "plt.tight_layout()\n",
        "plt.show()"
      ]
    },
    {
      "cell_type": "code",
      "execution_count": null,
      "metadata": {
        "execution": {
          "iopub.execute_input": "2025-10-25T00:01:40.879261Z",
          "iopub.status.busy": "2025-10-25T00:01:40.877684Z",
          "iopub.status.idle": "2025-10-25T00:02:55.866199Z",
          "shell.execute_reply": "2025-10-25T00:02:55.865034Z",
          "shell.execute_reply.started": "2025-10-25T00:01:40.879191Z"
        },
        "id": "X-hJq_3HrO65",
        "tags": [],
        "outputId": "27879a73-b9f2-4423-b1ee-e2cb03b61641"
      },
      "outputs": [
        {
          "name": "stdout",
          "output_type": "stream",
          "text": [
            "(6040, 4)\n"
          ]
        },
        {
          "data": {
            "text/html": [
              "<div>\n",
              "<style scoped>\n",
              "    .dataframe tbody tr th:only-of-type {\n",
              "        vertical-align: middle;\n",
              "    }\n",
              "\n",
              "    .dataframe tbody tr th {\n",
              "        vertical-align: top;\n",
              "    }\n",
              "\n",
              "    .dataframe thead th {\n",
              "        text-align: right;\n",
              "    }\n",
              "</style>\n",
              "<table border=\"1\" class=\"dataframe\">\n",
              "  <thead>\n",
              "    <tr style=\"text-align: right;\">\n",
              "      <th></th>\n",
              "      <th>user_id</th>\n",
              "      <th>kmeans_10</th>\n",
              "      <th>agg_10</th>\n",
              "      <th>dbscan</th>\n",
              "    </tr>\n",
              "  </thead>\n",
              "  <tbody>\n",
              "    <tr>\n",
              "      <th>0</th>\n",
              "      <td>0</td>\n",
              "      <td>6</td>\n",
              "      <td>1</td>\n",
              "      <td>-1</td>\n",
              "    </tr>\n",
              "    <tr>\n",
              "      <th>1</th>\n",
              "      <td>1</td>\n",
              "      <td>6</td>\n",
              "      <td>1</td>\n",
              "      <td>-1</td>\n",
              "    </tr>\n",
              "  </tbody>\n",
              "</table>\n",
              "</div>"
            ],
            "text/plain": [
              "   user_id  kmeans_10  agg_10  dbscan\n",
              "0        0          6       1      -1\n",
              "1        1          6       1      -1"
            ]
          },
          "execution_count": 80,
          "metadata": {},
          "output_type": "execute_result"
        }
      ],
      "source": [
        "best_n_clusters = 10\n",
        "\n",
        "kmeans = KMeans(n_clusters=best_n_clusters, random_state=42)\n",
        "clusters_kmeans = kmeans.fit_predict(train_matrix_dense)\n",
        "\n",
        "agg_clustering = AgglomerativeClustering(n_clusters=best_n_clusters)\n",
        "clusters_agg = agg_clustering.fit_predict(train_matrix_dense)\n",
        "\n",
        "dbscan = DBSCAN(eps=50, min_samples=5)\n",
        "clusters_dbscan = dbscan.fit_predict(train_matrix_dense)\n",
        "\n",
        "df_clusters = pd.DataFrame({\n",
        "    'user_id': np.arange(train_matrix_dense.shape[0]),\n",
        "    f'kmeans_{best_n_clusters}': clusters_kmeans,\n",
        "    f'agg_{best_n_clusters}': clusters_agg,\n",
        "    'dbscan': clusters_dbscan\n",
        "})\n",
        "\n",
        "print(df_clusters.shape)\n",
        "df_clusters.head(2)"
      ]
    },
    {
      "cell_type": "markdown",
      "metadata": {
        "id": "jw9mPaVErO65"
      },
      "source": [
        "## Сбор общего датасета для бустинга"
      ]
    },
    {
      "cell_type": "code",
      "execution_count": null,
      "metadata": {
        "execution": {
          "iopub.execute_input": "2025-10-25T00:03:35.308970Z",
          "iopub.status.busy": "2025-10-25T00:03:35.307981Z",
          "iopub.status.idle": "2025-10-25T00:03:35.338510Z",
          "shell.execute_reply": "2025-10-25T00:03:35.337293Z",
          "shell.execute_reply.started": "2025-10-25T00:03:35.308931Z"
        },
        "id": "40i_2B01zhqn",
        "outputId": "773c59e7-9c2b-455c-8ef1-1a2b62866c77"
      },
      "outputs": [
        {
          "data": {
            "text/html": [
              "<div>\n",
              "<style scoped>\n",
              "    .dataframe tbody tr th:only-of-type {\n",
              "        vertical-align: middle;\n",
              "    }\n",
              "\n",
              "    .dataframe tbody tr th {\n",
              "        vertical-align: top;\n",
              "    }\n",
              "\n",
              "    .dataframe thead th {\n",
              "        text-align: right;\n",
              "    }\n",
              "</style>\n",
              "<table border=\"1\" class=\"dataframe\">\n",
              "  <thead>\n",
              "    <tr style=\"text-align: right;\">\n",
              "      <th></th>\n",
              "      <th>user_id</th>\n",
              "      <th>item_id</th>\n",
              "      <th>score_item2item_NL</th>\n",
              "      <th>score_last_1_NL</th>\n",
              "      <th>score_last_2_NL</th>\n",
              "      <th>score_last_3_NL</th>\n",
              "      <th>score_last_4_NL</th>\n",
              "      <th>score_last_5_NL</th>\n",
              "      <th>score_top_pop_NL</th>\n",
              "      <th>score_genre_top_items_NL</th>\n",
              "    </tr>\n",
              "  </thead>\n",
              "  <tbody>\n",
              "    <tr>\n",
              "      <th>0</th>\n",
              "      <td>0</td>\n",
              "      <td>13</td>\n",
              "      <td>NaN</td>\n",
              "      <td>NaN</td>\n",
              "      <td>NaN</td>\n",
              "      <td>NaN</td>\n",
              "      <td>NaN</td>\n",
              "      <td>0.067616</td>\n",
              "      <td>NaN</td>\n",
              "      <td>NaN</td>\n",
              "    </tr>\n",
              "    <tr>\n",
              "      <th>1</th>\n",
              "      <td>0</td>\n",
              "      <td>15</td>\n",
              "      <td>NaN</td>\n",
              "      <td>0.227770</td>\n",
              "      <td>NaN</td>\n",
              "      <td>NaN</td>\n",
              "      <td>NaN</td>\n",
              "      <td>NaN</td>\n",
              "      <td>NaN</td>\n",
              "      <td>NaN</td>\n",
              "    </tr>\n",
              "    <tr>\n",
              "      <th>2</th>\n",
              "      <td>0</td>\n",
              "      <td>16</td>\n",
              "      <td>NaN</td>\n",
              "      <td>0.464879</td>\n",
              "      <td>NaN</td>\n",
              "      <td>NaN</td>\n",
              "      <td>NaN</td>\n",
              "      <td>NaN</td>\n",
              "      <td>NaN</td>\n",
              "      <td>NaN</td>\n",
              "    </tr>\n",
              "    <tr>\n",
              "      <th>3</th>\n",
              "      <td>0</td>\n",
              "      <td>19</td>\n",
              "      <td>NaN</td>\n",
              "      <td>0.122957</td>\n",
              "      <td>NaN</td>\n",
              "      <td>NaN</td>\n",
              "      <td>NaN</td>\n",
              "      <td>NaN</td>\n",
              "      <td>NaN</td>\n",
              "      <td>NaN</td>\n",
              "    </tr>\n",
              "    <tr>\n",
              "      <th>4</th>\n",
              "      <td>0</td>\n",
              "      <td>23</td>\n",
              "      <td>NaN</td>\n",
              "      <td>NaN</td>\n",
              "      <td>NaN</td>\n",
              "      <td>NaN</td>\n",
              "      <td>NaN</td>\n",
              "      <td>NaN</td>\n",
              "      <td>108.0</td>\n",
              "      <td>NaN</td>\n",
              "    </tr>\n",
              "    <tr>\n",
              "      <th>...</th>\n",
              "      <td>...</td>\n",
              "      <td>...</td>\n",
              "      <td>...</td>\n",
              "      <td>...</td>\n",
              "      <td>...</td>\n",
              "      <td>...</td>\n",
              "      <td>...</td>\n",
              "      <td>...</td>\n",
              "      <td>...</td>\n",
              "      <td>...</td>\n",
              "    </tr>\n",
              "    <tr>\n",
              "      <th>7956177</th>\n",
              "      <td>6039</td>\n",
              "      <td>3694</td>\n",
              "      <td>NaN</td>\n",
              "      <td>0.541415</td>\n",
              "      <td>NaN</td>\n",
              "      <td>NaN</td>\n",
              "      <td>NaN</td>\n",
              "      <td>NaN</td>\n",
              "      <td>NaN</td>\n",
              "      <td>NaN</td>\n",
              "    </tr>\n",
              "    <tr>\n",
              "      <th>7956178</th>\n",
              "      <td>6039</td>\n",
              "      <td>3695</td>\n",
              "      <td>NaN</td>\n",
              "      <td>NaN</td>\n",
              "      <td>NaN</td>\n",
              "      <td>0.143514</td>\n",
              "      <td>NaN</td>\n",
              "      <td>NaN</td>\n",
              "      <td>NaN</td>\n",
              "      <td>NaN</td>\n",
              "    </tr>\n",
              "    <tr>\n",
              "      <th>7956179</th>\n",
              "      <td>6039</td>\n",
              "      <td>3700</td>\n",
              "      <td>NaN</td>\n",
              "      <td>NaN</td>\n",
              "      <td>NaN</td>\n",
              "      <td>NaN</td>\n",
              "      <td>NaN</td>\n",
              "      <td>0.157566</td>\n",
              "      <td>NaN</td>\n",
              "      <td>NaN</td>\n",
              "    </tr>\n",
              "    <tr>\n",
              "      <th>7956180</th>\n",
              "      <td>6039</td>\n",
              "      <td>3701</td>\n",
              "      <td>NaN</td>\n",
              "      <td>NaN</td>\n",
              "      <td>NaN</td>\n",
              "      <td>0.077587</td>\n",
              "      <td>NaN</td>\n",
              "      <td>NaN</td>\n",
              "      <td>NaN</td>\n",
              "      <td>NaN</td>\n",
              "    </tr>\n",
              "    <tr>\n",
              "      <th>7956181</th>\n",
              "      <td>6039</td>\n",
              "      <td>3703</td>\n",
              "      <td>-1.241456</td>\n",
              "      <td>NaN</td>\n",
              "      <td>NaN</td>\n",
              "      <td>NaN</td>\n",
              "      <td>NaN</td>\n",
              "      <td>NaN</td>\n",
              "      <td>NaN</td>\n",
              "      <td>NaN</td>\n",
              "    </tr>\n",
              "  </tbody>\n",
              "</table>\n",
              "<p>7956182 rows × 10 columns</p>\n",
              "</div>"
            ],
            "text/plain": [
              "         user_id  item_id  score_item2item_NL  score_last_1_NL  \\\n",
              "0              0       13                 NaN              NaN   \n",
              "1              0       15                 NaN         0.227770   \n",
              "2              0       16                 NaN         0.464879   \n",
              "3              0       19                 NaN         0.122957   \n",
              "4              0       23                 NaN              NaN   \n",
              "...          ...      ...                 ...              ...   \n",
              "7956177     6039     3694                 NaN         0.541415   \n",
              "7956178     6039     3695                 NaN              NaN   \n",
              "7956179     6039     3700                 NaN              NaN   \n",
              "7956180     6039     3701                 NaN              NaN   \n",
              "7956181     6039     3703           -1.241456              NaN   \n",
              "\n",
              "         score_last_2_NL  score_last_3_NL  score_last_4_NL  score_last_5_NL  \\\n",
              "0                    NaN              NaN              NaN         0.067616   \n",
              "1                    NaN              NaN              NaN              NaN   \n",
              "2                    NaN              NaN              NaN              NaN   \n",
              "3                    NaN              NaN              NaN              NaN   \n",
              "4                    NaN              NaN              NaN              NaN   \n",
              "...                  ...              ...              ...              ...   \n",
              "7956177              NaN              NaN              NaN              NaN   \n",
              "7956178              NaN         0.143514              NaN              NaN   \n",
              "7956179              NaN              NaN              NaN         0.157566   \n",
              "7956180              NaN         0.077587              NaN              NaN   \n",
              "7956181              NaN              NaN              NaN              NaN   \n",
              "\n",
              "         score_top_pop_NL  score_genre_top_items_NL  \n",
              "0                     NaN                       NaN  \n",
              "1                     NaN                       NaN  \n",
              "2                     NaN                       NaN  \n",
              "3                     NaN                       NaN  \n",
              "4                   108.0                       NaN  \n",
              "...                   ...                       ...  \n",
              "7956177               NaN                       NaN  \n",
              "7956178               NaN                       NaN  \n",
              "7956179               NaN                       NaN  \n",
              "7956180               NaN                       NaN  \n",
              "7956181               NaN                       NaN  \n",
              "\n",
              "[7956182 rows x 10 columns]"
            ]
          },
          "execution_count": 85,
          "metadata": {},
          "output_type": "execute_result"
        }
      ],
      "source": [
        "df_scores_i2i"
      ]
    },
    {
      "cell_type": "code",
      "execution_count": null,
      "metadata": {
        "execution": {
          "iopub.execute_input": "2025-10-25T00:03:39.992573Z",
          "iopub.status.busy": "2025-10-25T00:03:39.991380Z",
          "iopub.status.idle": "2025-10-25T00:03:40.020726Z",
          "shell.execute_reply": "2025-10-25T00:03:40.019397Z",
          "shell.execute_reply.started": "2025-10-25T00:03:39.992529Z"
        },
        "id": "FNZVy2Fbzhqn",
        "outputId": "adc3d651-ef36-43d6-d23f-b74a0742b782"
      },
      "outputs": [
        {
          "data": {
            "text/html": [
              "<div>\n",
              "<style scoped>\n",
              "    .dataframe tbody tr th:only-of-type {\n",
              "        vertical-align: middle;\n",
              "    }\n",
              "\n",
              "    .dataframe tbody tr th {\n",
              "        vertical-align: top;\n",
              "    }\n",
              "\n",
              "    .dataframe thead th {\n",
              "        text-align: right;\n",
              "    }\n",
              "</style>\n",
              "<table border=\"1\" class=\"dataframe\">\n",
              "  <thead>\n",
              "    <tr style=\"text-align: right;\">\n",
              "      <th></th>\n",
              "      <th>user_id</th>\n",
              "      <th>item_id</th>\n",
              "      <th>interaction_count</th>\n",
              "      <th>average_rating</th>\n",
              "      <th>score</th>\n",
              "      <th>popularity_score_dumb</th>\n",
              "      <th>average_rating_dumb</th>\n",
              "    </tr>\n",
              "  </thead>\n",
              "  <tbody>\n",
              "    <tr>\n",
              "      <th>0</th>\n",
              "      <td>0</td>\n",
              "      <td>2239</td>\n",
              "      <td>229.0</td>\n",
              "      <td>3.187773</td>\n",
              "      <td>0.058069</td>\n",
              "      <td>NaN</td>\n",
              "      <td>NaN</td>\n",
              "    </tr>\n",
              "    <tr>\n",
              "      <th>1</th>\n",
              "      <td>0</td>\n",
              "      <td>2931</td>\n",
              "      <td>691.0</td>\n",
              "      <td>4.393632</td>\n",
              "      <td>0.241756</td>\n",
              "      <td>NaN</td>\n",
              "      <td>4.393632</td>\n",
              "    </tr>\n",
              "    <tr>\n",
              "      <th>2</th>\n",
              "      <td>0</td>\n",
              "      <td>1795</td>\n",
              "      <td>359.0</td>\n",
              "      <td>3.130919</td>\n",
              "      <td>0.089454</td>\n",
              "      <td>NaN</td>\n",
              "      <td>NaN</td>\n",
              "    </tr>\n",
              "    <tr>\n",
              "      <th>3</th>\n",
              "      <td>0</td>\n",
              "      <td>2568</td>\n",
              "      <td>384.0</td>\n",
              "      <td>3.898438</td>\n",
              "      <td>0.119165</td>\n",
              "      <td>NaN</td>\n",
              "      <td>NaN</td>\n",
              "    </tr>\n",
              "    <tr>\n",
              "      <th>4</th>\n",
              "      <td>0</td>\n",
              "      <td>1533</td>\n",
              "      <td>311.0</td>\n",
              "      <td>3.247588</td>\n",
              "      <td>0.080373</td>\n",
              "      <td>NaN</td>\n",
              "      <td>NaN</td>\n",
              "    </tr>\n",
              "    <tr>\n",
              "      <th>...</th>\n",
              "      <td>...</td>\n",
              "      <td>...</td>\n",
              "      <td>...</td>\n",
              "      <td>...</td>\n",
              "      <td>...</td>\n",
              "      <td>...</td>\n",
              "      <td>...</td>\n",
              "    </tr>\n",
              "    <tr>\n",
              "      <th>1024523</th>\n",
              "      <td>6035</td>\n",
              "      <td>1279</td>\n",
              "      <td>NaN</td>\n",
              "      <td>NaN</td>\n",
              "      <td>0.497929</td>\n",
              "      <td>6252.0</td>\n",
              "      <td>4.415254</td>\n",
              "    </tr>\n",
              "    <tr>\n",
              "      <th>1024524</th>\n",
              "      <td>6037</td>\n",
              "      <td>1316</td>\n",
              "      <td>NaN</td>\n",
              "      <td>NaN</td>\n",
              "      <td>0.610483</td>\n",
              "      <td>7665.0</td>\n",
              "      <td>NaN</td>\n",
              "    </tr>\n",
              "    <tr>\n",
              "      <th>1024525</th>\n",
              "      <td>6038</td>\n",
              "      <td>487</td>\n",
              "      <td>NaN</td>\n",
              "      <td>NaN</td>\n",
              "      <td>0.328342</td>\n",
              "      <td>4123.0</td>\n",
              "      <td>NaN</td>\n",
              "    </tr>\n",
              "    <tr>\n",
              "      <th>1024526</th>\n",
              "      <td>6039</td>\n",
              "      <td>3692</td>\n",
              "      <td>NaN</td>\n",
              "      <td>NaN</td>\n",
              "      <td>0.464235</td>\n",
              "      <td>5829.0</td>\n",
              "      <td>NaN</td>\n",
              "    </tr>\n",
              "    <tr>\n",
              "      <th>1024527</th>\n",
              "      <td>6039</td>\n",
              "      <td>1211</td>\n",
              "      <td>NaN</td>\n",
              "      <td>NaN</td>\n",
              "      <td>0.449100</td>\n",
              "      <td>5639.0</td>\n",
              "      <td>NaN</td>\n",
              "    </tr>\n",
              "  </tbody>\n",
              "</table>\n",
              "<p>1024521 rows × 7 columns</p>\n",
              "</div>"
            ],
            "text/plain": [
              "         user_id  item_id  interaction_count  average_rating     score  \\\n",
              "0              0     2239              229.0        3.187773  0.058069   \n",
              "1              0     2931              691.0        4.393632  0.241756   \n",
              "2              0     1795              359.0        3.130919  0.089454   \n",
              "3              0     2568              384.0        3.898438  0.119165   \n",
              "4              0     1533              311.0        3.247588  0.080373   \n",
              "...          ...      ...                ...             ...       ...   \n",
              "1024523     6035     1279                NaN             NaN  0.497929   \n",
              "1024524     6037     1316                NaN             NaN  0.610483   \n",
              "1024525     6038      487                NaN             NaN  0.328342   \n",
              "1024526     6039     3692                NaN             NaN  0.464235   \n",
              "1024527     6039     1211                NaN             NaN  0.449100   \n",
              "\n",
              "         popularity_score_dumb  average_rating_dumb  \n",
              "0                          NaN                  NaN  \n",
              "1                          NaN             4.393632  \n",
              "2                          NaN                  NaN  \n",
              "3                          NaN                  NaN  \n",
              "4                          NaN                  NaN  \n",
              "...                        ...                  ...  \n",
              "1024523                 6252.0             4.415254  \n",
              "1024524                 7665.0                  NaN  \n",
              "1024525                 4123.0                  NaN  \n",
              "1024526                 5829.0                  NaN  \n",
              "1024527                 5639.0                  NaN  \n",
              "\n",
              "[1024521 rows x 7 columns]"
            ]
          },
          "execution_count": 86,
          "metadata": {},
          "output_type": "execute_result"
        }
      ],
      "source": [
        "popular_df"
      ]
    },
    {
      "cell_type": "code",
      "execution_count": null,
      "metadata": {
        "execution": {
          "iopub.execute_input": "2025-10-25T00:03:45.298311Z",
          "iopub.status.busy": "2025-10-25T00:03:45.296773Z",
          "iopub.status.idle": "2025-10-25T00:03:45.319504Z",
          "shell.execute_reply": "2025-10-25T00:03:45.318345Z",
          "shell.execute_reply.started": "2025-10-25T00:03:45.298266Z"
        },
        "id": "aYwyKhCKzhqn",
        "outputId": "9a0caae9-f4e7-4125-b6ab-94e315436d37"
      },
      "outputs": [
        {
          "data": {
            "text/html": [
              "<div>\n",
              "<style scoped>\n",
              "    .dataframe tbody tr th:only-of-type {\n",
              "        vertical-align: middle;\n",
              "    }\n",
              "\n",
              "    .dataframe tbody tr th {\n",
              "        vertical-align: top;\n",
              "    }\n",
              "\n",
              "    .dataframe thead th {\n",
              "        text-align: right;\n",
              "    }\n",
              "</style>\n",
              "<table border=\"1\" class=\"dataframe\">\n",
              "  <thead>\n",
              "    <tr style=\"text-align: right;\">\n",
              "      <th></th>\n",
              "      <th>user_id</th>\n",
              "      <th>kmeans_10</th>\n",
              "      <th>agg_10</th>\n",
              "      <th>dbscan</th>\n",
              "    </tr>\n",
              "  </thead>\n",
              "  <tbody>\n",
              "    <tr>\n",
              "      <th>0</th>\n",
              "      <td>0</td>\n",
              "      <td>6</td>\n",
              "      <td>1</td>\n",
              "      <td>-1</td>\n",
              "    </tr>\n",
              "    <tr>\n",
              "      <th>1</th>\n",
              "      <td>1</td>\n",
              "      <td>6</td>\n",
              "      <td>1</td>\n",
              "      <td>-1</td>\n",
              "    </tr>\n",
              "    <tr>\n",
              "      <th>2</th>\n",
              "      <td>2</td>\n",
              "      <td>8</td>\n",
              "      <td>0</td>\n",
              "      <td>0</td>\n",
              "    </tr>\n",
              "    <tr>\n",
              "      <th>3</th>\n",
              "      <td>3</td>\n",
              "      <td>6</td>\n",
              "      <td>1</td>\n",
              "      <td>0</td>\n",
              "    </tr>\n",
              "    <tr>\n",
              "      <th>4</th>\n",
              "      <td>4</td>\n",
              "      <td>4</td>\n",
              "      <td>9</td>\n",
              "      <td>0</td>\n",
              "    </tr>\n",
              "    <tr>\n",
              "      <th>...</th>\n",
              "      <td>...</td>\n",
              "      <td>...</td>\n",
              "      <td>...</td>\n",
              "      <td>...</td>\n",
              "    </tr>\n",
              "    <tr>\n",
              "      <th>6035</th>\n",
              "      <td>6035</td>\n",
              "      <td>8</td>\n",
              "      <td>0</td>\n",
              "      <td>0</td>\n",
              "    </tr>\n",
              "    <tr>\n",
              "      <th>6036</th>\n",
              "      <td>6036</td>\n",
              "      <td>2</td>\n",
              "      <td>5</td>\n",
              "      <td>0</td>\n",
              "    </tr>\n",
              "    <tr>\n",
              "      <th>6037</th>\n",
              "      <td>6037</td>\n",
              "      <td>2</td>\n",
              "      <td>9</td>\n",
              "      <td>0</td>\n",
              "    </tr>\n",
              "    <tr>\n",
              "      <th>6038</th>\n",
              "      <td>6038</td>\n",
              "      <td>9</td>\n",
              "      <td>2</td>\n",
              "      <td>-1</td>\n",
              "    </tr>\n",
              "    <tr>\n",
              "      <th>6039</th>\n",
              "      <td>6039</td>\n",
              "      <td>8</td>\n",
              "      <td>0</td>\n",
              "      <td>-1</td>\n",
              "    </tr>\n",
              "  </tbody>\n",
              "</table>\n",
              "<p>6040 rows × 4 columns</p>\n",
              "</div>"
            ],
            "text/plain": [
              "      user_id  kmeans_10  agg_10  dbscan\n",
              "0           0          6       1      -1\n",
              "1           1          6       1      -1\n",
              "2           2          8       0       0\n",
              "3           3          6       1       0\n",
              "4           4          4       9       0\n",
              "...       ...        ...     ...     ...\n",
              "6035     6035          8       0       0\n",
              "6036     6036          2       5       0\n",
              "6037     6037          2       9       0\n",
              "6038     6038          9       2      -1\n",
              "6039     6039          8       0      -1\n",
              "\n",
              "[6040 rows x 4 columns]"
            ]
          },
          "execution_count": 87,
          "metadata": {},
          "output_type": "execute_result"
        }
      ],
      "source": [
        "df_clusters"
      ]
    },
    {
      "cell_type": "code",
      "execution_count": null,
      "metadata": {
        "execution": {
          "iopub.execute_input": "2025-10-25T00:07:12.612764Z",
          "iopub.status.busy": "2025-10-25T00:07:12.611807Z",
          "iopub.status.idle": "2025-10-25T00:07:31.221521Z",
          "shell.execute_reply": "2025-10-25T00:07:31.220235Z",
          "shell.execute_reply.started": "2025-10-25T00:07:12.612728Z"
        },
        "id": "ydE3YJbXrO66",
        "tags": []
      },
      "outputs": [],
      "source": [
        "all_models_df = als_df.merge(df_scores_i2i, on=['user_id', 'item_id'], how='outer')\\\n",
        "                        .merge(popular_df, on=['user_id', 'item_id'], how='outer')\\\n",
        "                        .merge(df_clusters, on=['user_id'], how='outer')\\\n",
        "                        .merge(f_recommendations, on=['user_id', 'item_id'], how='outer')\\"
      ]
    },
    {
      "cell_type": "code",
      "execution_count": null,
      "metadata": {
        "execution": {
          "iopub.execute_input": "2025-10-25T00:07:58.092540Z",
          "iopub.status.busy": "2025-10-25T00:07:58.091408Z",
          "iopub.status.idle": "2025-10-25T00:07:58.118152Z",
          "shell.execute_reply": "2025-10-25T00:07:58.117040Z",
          "shell.execute_reply.started": "2025-10-25T00:07:58.092485Z"
        },
        "id": "48CM2S60rO66",
        "outputId": "7838b85e-025e-4251-8da0-5cc4d254ad24",
        "tags": []
      },
      "outputs": [
        {
          "data": {
            "text/plain": [
              "(3705, 3705, 6039, 6039, 2957)"
            ]
          },
          "execution_count": 100,
          "metadata": {},
          "output_type": "execute_result"
        }
      ],
      "source": [
        "df_scores_i2i['item_id'].max(), popular_df['item_id'].max(), \\\n",
        "df_clusters['user_id'].max(), df_faiss['item_id'].max(), \\\n",
        "f_recommendations['item_id'].max()"
      ]
    },
    {
      "cell_type": "code",
      "execution_count": null,
      "metadata": {
        "execution": {
          "iopub.execute_input": "2025-10-25T00:08:01.122370Z",
          "iopub.status.busy": "2025-10-25T00:08:01.121158Z",
          "iopub.status.idle": "2025-10-25T00:08:04.015544Z",
          "shell.execute_reply": "2025-10-25T00:08:04.014345Z",
          "shell.execute_reply.started": "2025-10-25T00:08:01.122295Z"
        },
        "id": "hjTCkrS9rO66",
        "tags": []
      },
      "outputs": [],
      "source": [
        "all_models_df = all_models_df.drop_duplicates(subset=['user_id', 'item_id'], keep='first')"
      ]
    },
    {
      "cell_type": "code",
      "execution_count": null,
      "metadata": {
        "execution": {
          "iopub.execute_input": "2025-10-25T00:08:04.018314Z",
          "iopub.status.busy": "2025-10-25T00:08:04.017372Z",
          "iopub.status.idle": "2025-10-25T00:08:06.046676Z",
          "shell.execute_reply": "2025-10-25T00:08:06.045457Z",
          "shell.execute_reply.started": "2025-10-25T00:08:04.018264Z"
        },
        "id": "pFLk7wGBrO66",
        "outputId": "f4ca18ab-1f91-4fb8-a94a-6d5df05cfc8f",
        "tags": []
      },
      "outputs": [
        {
          "data": {
            "text/plain": [
              "0"
            ]
          },
          "execution_count": 102,
          "metadata": {},
          "output_type": "execute_result"
        }
      ],
      "source": [
        "all_models_df[['user_id', 'item_id']].duplicated().sum()"
      ]
    },
    {
      "cell_type": "code",
      "execution_count": null,
      "metadata": {
        "execution": {
          "iopub.execute_input": "2025-10-25T00:08:06.049939Z",
          "iopub.status.busy": "2025-10-25T00:08:06.048716Z",
          "iopub.status.idle": "2025-10-25T00:08:10.545146Z",
          "shell.execute_reply": "2025-10-25T00:08:10.543962Z",
          "shell.execute_reply.started": "2025-10-25T00:08:06.049888Z"
        },
        "id": "8eT-oy_8rO66",
        "tags": []
      },
      "outputs": [],
      "source": [
        "all_models_df = all_models_df.merge(item_features, on='item_id', how='left')"
      ]
    },
    {
      "cell_type": "code",
      "execution_count": null,
      "metadata": {
        "execution": {
          "iopub.execute_input": "2025-10-25T00:08:10.548507Z",
          "iopub.status.busy": "2025-10-25T00:08:10.546849Z",
          "iopub.status.idle": "2025-10-25T00:08:10.564732Z",
          "shell.execute_reply": "2025-10-25T00:08:10.563679Z",
          "shell.execute_reply.started": "2025-10-25T00:08:10.548452Z"
        },
        "id": "Jb5e4yPxrO66",
        "outputId": "ee1209c5-10fd-4ecc-f0ae-66f2f6b285f4",
        "tags": []
      },
      "outputs": [
        {
          "data": {
            "text/plain": [
              "3705"
            ]
          },
          "execution_count": 104,
          "metadata": {},
          "output_type": "execute_result"
        }
      ],
      "source": [
        "events['item_id'].max()"
      ]
    },
    {
      "cell_type": "code",
      "execution_count": null,
      "metadata": {
        "execution": {
          "iopub.execute_input": "2025-10-25T00:08:10.567395Z",
          "iopub.status.busy": "2025-10-25T00:08:10.566663Z",
          "iopub.status.idle": "2025-10-25T00:08:10.582609Z",
          "shell.execute_reply": "2025-10-25T00:08:10.581494Z",
          "shell.execute_reply.started": "2025-10-25T00:08:10.567362Z"
        },
        "id": "1Lk5AM2prO67",
        "outputId": "e283ba66-25a3-479b-a996-7f5f2bcbea85",
        "tags": []
      },
      "outputs": [
        {
          "data": {
            "text/plain": [
              "(8691186, 40)"
            ]
          },
          "execution_count": 105,
          "metadata": {},
          "output_type": "execute_result"
        }
      ],
      "source": [
        "all_models_df.shape"
      ]
    },
    {
      "cell_type": "code",
      "execution_count": null,
      "metadata": {
        "execution": {
          "iopub.execute_input": "2025-10-25T00:08:10.584909Z",
          "iopub.status.busy": "2025-10-25T00:08:10.583804Z",
          "iopub.status.idle": "2025-10-25T00:08:13.968930Z",
          "shell.execute_reply": "2025-10-25T00:08:13.967716Z",
          "shell.execute_reply.started": "2025-10-25T00:08:10.584864Z"
        },
        "id": "C5_4-cZfrO67",
        "tags": []
      },
      "outputs": [],
      "source": [
        "df_user = df[['user_id', 'user_avg_rating', 'user_min_rating', 'user_max_rating', 'user_rating_count',\n",
        "              'user_rating_std', 'user_unique_items', 'user_start_time', 'last_user_activity', 'user_activity_timedelta', 'user_positive_items',\n",
        "              'user_unwatched_ratio', 'user_positive_rating_count', 'user_positive_rating_ratio', 'user_bias', 'rating_user_cummean',\n",
        "              'rating_user_normalized', 'rating_user_normalized_round', 'gender', 'age', 'gender_age_avg_rating',\n",
        "              'top_2_avg_rating_user', 'top_4_avg_rating_user',\n",
        "              'top_6_avg_rating_user', 'top_8_avg_rating_user', 'top_10_avg_rating_user', 'top_12_avg_rating_user', 'top_14_avg_rating_user',\n",
        "              'top_16_avg_rating_user', 'top_18_avg_rating_user', 'top_20_avg_rating_user', 'top_22_avg_rating_user', 'top_24_avg_rating_user',\n",
        "              'top_26_avg_rating_user', 'top_28_avg_rating_user', 'top_30_avg_rating_user', 'top_32_avg_rating_user', 'top_34_avg_rating_user',\n",
        "              'top_36_avg_rating_user', 'top_38_avg_rating_user', 'top_40_avg_rating_user', 'top_42_avg_rating_user', 'top_44_avg_rating_user',\n",
        "              'top_46_avg_rating_user', 'top_48_avg_rating_user', 'top_50_avg_rating_user', 'rating_user_cumsum', 'rating_user_cumcount',\n",
        "              'gender_age_min_rating', 'gender_age_max_rating', 'gender_age_rating_count', 'gender_age_unique_users', 'gender_age_start_time',\n",
        "              'gender_age_last_activity', 'gender_age_positive_items', 'gender_age_positive_ratio', 'user_gender_age_avg_rating',\n",
        "              'user_gender_age_min_rating', 'user_gender_age_max_rating', 'user_gender_age_rating_count', 'user_gender_age_positive_items',\n",
        "              'gender_age_rating_variance', 'gender_age_rating_std', 'overall_gender_age_avg_rating', 'user_gender_age_bias']]\n",
        "\n",
        "df_user = df_user.groupby(by='user_id').last().reset_index()\n",
        "\n",
        "df_item = df[list(set(df.columns) - set(df_user.columns) - set(['rating', 'item_id_idx', 'timestamp','user_id_idx']))]\n",
        "df_item = df_item.groupby(by='item_id').last().reset_index()"
      ]
    },
    {
      "cell_type": "code",
      "execution_count": null,
      "metadata": {
        "execution": {
          "iopub.execute_input": "2025-10-25T00:08:14.799045Z",
          "iopub.status.busy": "2025-10-25T00:08:14.797577Z",
          "iopub.status.idle": "2025-10-25T00:08:42.402874Z",
          "shell.execute_reply": "2025-10-25T00:08:42.401593Z",
          "shell.execute_reply.started": "2025-10-25T00:08:14.798956Z"
        },
        "id": "bO0g_xF5rO67",
        "outputId": "29a53335-f685-4bcd-dfcf-03c2fe8aa6a3",
        "tags": []
      },
      "outputs": [
        {
          "name": "stdout",
          "output_type": "stream",
          "text": [
            "(8691186, 274)\n",
            "(8691186, 274)\n"
          ]
        }
      ],
      "source": [
        "all_models_df = all_models_df.merge(df_user, how='left', on='user_id')\\\n",
        "                             .merge(df_item, how='left', on='item_id')\n",
        "\n",
        "print(all_models_df.shape)\n",
        "\n",
        "\n",
        "print(all_models_df.shape)"
      ]
    },
    {
      "cell_type": "code",
      "source": [
        "all_models_df.to_praquet('all_models_df_v2.parquet')"
      ],
      "metadata": {
        "id": "HcY50lAgN8di"
      },
      "execution_count": null,
      "outputs": []
    }
  ],
  "metadata": {
    "colab": {
      "provenance": []
    },
    "kernelspec": {
      "display_name": "DataSphere Kernel",
      "language": "python",
      "name": "python3"
    },
    "language_info": {
      "codemirror_mode": {
        "name": "ipython",
        "version": 3
      },
      "file_extension": ".py",
      "mimetype": "text/x-python",
      "name": "python",
      "nbconvert_exporter": "python",
      "pygments_lexer": "ipython3",
      "version": "3.10.12"
    }
  },
  "nbformat": 4,
  "nbformat_minor": 0
}